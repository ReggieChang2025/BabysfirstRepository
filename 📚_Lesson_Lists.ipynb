{
  "cells": [
    {
      "cell_type": "markdown",
      "metadata": {
        "id": "view-in-github",
        "colab_type": "text"
      },
      "source": [
        "<a href=\"https://colab.research.google.com/github/ReggieChang2025/BabysfirstRepository/blob/main/%F0%9F%93%9A_Lesson_Lists.ipynb\" target=\"_parent\"><img src=\"https://colab.research.google.com/assets/colab-badge.svg\" alt=\"Open In Colab\"/></a>"
      ]
    },
    {
      "cell_type": "markdown",
      "metadata": {
        "id": "3E2D_PWb6BdA"
      },
      "source": [
        "<div>\n",
        "<img src=\"https://coursereport-s3-production.global.ssl.fastly.net/uploads/school/logo/219/original/CT_LOGO_NEW.jpg\" width=60>\n",
        "</div>\n",
        "\n",
        "#  **Lists**\n",
        "\n",
        "*Be sure to be following along with the lesson page before progressing in this notebook!*"
      ]
    },
    {
      "cell_type": "markdown",
      "source": [
        "## **🛝 Practice Playground** - Section 1\n",
        "In Python, lists are dynamic arrays that can store elements of different types. They are both flexible and easy to use, making them ideal for situations where you need an ordered collection of items. Lists are defined with square brackets [] and can include integers, strings, and even other lists."
      ],
      "metadata": {
        "id": "YOUiHU27y0mn"
      }
    },
    {
      "cell_type": "code",
      "execution_count": 1,
      "metadata": {
        "id": "ZvzqVRb86BdP"
      },
      "outputs": [],
      "source": [
        "# Run this cell!\n",
        "\n",
        "friends = [\"Aaron\", \"Becky\", \"Chad\", \"Dustin\", \"Eric\"]"
      ]
    },
    {
      "cell_type": "code",
      "execution_count": 2,
      "metadata": {
        "id": "YbetqlU_6BdP",
        "outputId": "98938440-a7bf-4c0c-ba1b-55893741578c",
        "colab": {
          "base_uri": "https://localhost:8080/",
          "height": 35
        }
      },
      "outputs": [
        {
          "output_type": "execute_result",
          "data": {
            "text/plain": [
              "'Aaron'"
            ],
            "application/vnd.google.colaboratory.intrinsic+json": {
              "type": "string"
            }
          },
          "metadata": {},
          "execution_count": 2
        }
      ],
      "source": [
        "# Run this cell!\n",
        "\n",
        "friends[0]"
      ]
    },
    {
      "cell_type": "code",
      "source": [
        "# Run this cell!\n",
        "\n",
        "friends[1]"
      ],
      "metadata": {
        "id": "COZbkLYTs56N",
        "outputId": "75bbe914-9295-4b11-a4b6-a78d748a54c2",
        "colab": {
          "base_uri": "https://localhost:8080/",
          "height": 35
        }
      },
      "execution_count": 3,
      "outputs": [
        {
          "output_type": "execute_result",
          "data": {
            "text/plain": [
              "'Becky'"
            ],
            "application/vnd.google.colaboratory.intrinsic+json": {
              "type": "string"
            }
          },
          "metadata": {},
          "execution_count": 3
        }
      ]
    },
    {
      "cell_type": "code",
      "source": [
        "# Run this cell!\n",
        "\n",
        "friends[2]"
      ],
      "metadata": {
        "id": "nqyQ50bQtpuW"
      },
      "execution_count": null,
      "outputs": []
    },
    {
      "cell_type": "code",
      "source": [
        "# Run this cell!\n",
        "\n",
        "friends[4]"
      ],
      "metadata": {
        "id": "3cHYPeAoLbba"
      },
      "execution_count": null,
      "outputs": []
    },
    {
      "cell_type": "code",
      "source": [
        "# Run this cell!\n",
        "\n",
        "friends[-1]"
      ],
      "metadata": {
        "id": "ZLe3ZOz7qQ3r",
        "outputId": "40055bdd-a538-4340-ad69-28b414216f7a",
        "colab": {
          "base_uri": "https://localhost:8080/",
          "height": 35
        }
      },
      "execution_count": 4,
      "outputs": [
        {
          "output_type": "execute_result",
          "data": {
            "text/plain": [
              "'Eric'"
            ],
            "application/vnd.google.colaboratory.intrinsic+json": {
              "type": "string"
            }
          },
          "metadata": {},
          "execution_count": 4
        }
      ]
    },
    {
      "cell_type": "code",
      "source": [
        "# Run this cell!\n",
        "\n",
        "friends[0:2]"
      ],
      "metadata": {
        "id": "NkJkbyTvmAZC",
        "outputId": "dee81769-24e7-432f-b9c0-854d76c34c50",
        "colab": {
          "base_uri": "https://localhost:8080/"
        }
      },
      "execution_count": 5,
      "outputs": [
        {
          "output_type": "execute_result",
          "data": {
            "text/plain": [
              "['Aaron', 'Becky']"
            ]
          },
          "metadata": {},
          "execution_count": 5
        }
      ]
    },
    {
      "cell_type": "code",
      "source": [
        "# Run this cell!\n",
        "\n",
        "friends[:2]"
      ],
      "metadata": {
        "id": "Rkly9IHWmAWq"
      },
      "execution_count": null,
      "outputs": []
    },
    {
      "cell_type": "code",
      "source": [
        "# Run this cell!\n",
        "\n",
        "friends[1:]"
      ],
      "metadata": {
        "id": "YQfrmBbOH1Tr",
        "outputId": "36409699-9f28-4bd9-b6a5-8daef2760bf0",
        "colab": {
          "base_uri": "https://localhost:8080/"
        }
      },
      "execution_count": 6,
      "outputs": [
        {
          "output_type": "execute_result",
          "data": {
            "text/plain": [
              "['Becky', 'Chad', 'Dustin', 'Eric']"
            ]
          },
          "metadata": {},
          "execution_count": 6
        }
      ]
    },
    {
      "cell_type": "code",
      "source": [
        "# Run this cell!\n",
        "\n",
        "friends[::]"
      ],
      "metadata": {
        "id": "_l4qpakjM-bu",
        "outputId": "d194fb87-dcc3-4e2e-d5cc-5e5a14e62071",
        "colab": {
          "base_uri": "https://localhost:8080/"
        }
      },
      "execution_count": 7,
      "outputs": [
        {
          "output_type": "execute_result",
          "data": {
            "text/plain": [
              "['Aaron', 'Becky', 'Chad', 'Dustin', 'Eric']"
            ]
          },
          "metadata": {},
          "execution_count": 7
        }
      ]
    },
    {
      "cell_type": "code",
      "source": [
        "# Run this cell!\n",
        "\n",
        "friends[1::2]"
      ],
      "metadata": {
        "id": "guw6iducM5XJ",
        "outputId": "6a51a5b9-731f-411a-f3c2-abce25837b2d",
        "colab": {
          "base_uri": "https://localhost:8080/"
        }
      },
      "execution_count": 9,
      "outputs": [
        {
          "output_type": "execute_result",
          "data": {
            "text/plain": [
              "['Becky', 'Dustin']"
            ]
          },
          "metadata": {},
          "execution_count": 9
        }
      ]
    },
    {
      "cell_type": "code",
      "source": [
        "# Run this cell!\n",
        "\n",
        "friends[::-1]"
      ],
      "metadata": {
        "id": "NLr4Upz9H1PW",
        "outputId": "c5b877f8-099a-46ca-905e-bac5fe7c3caf",
        "colab": {
          "base_uri": "https://localhost:8080/"
        }
      },
      "execution_count": 10,
      "outputs": [
        {
          "output_type": "execute_result",
          "data": {
            "text/plain": [
              "['Eric', 'Dustin', 'Chad', 'Becky', 'Aaron']"
            ]
          },
          "metadata": {},
          "execution_count": 10
        }
      ]
    },
    {
      "cell_type": "markdown",
      "source": [
        "## **🛝 Practice Playground** - Section 2\n",
        "Lists in Python are dynamic arrays that can easily be modified. This flexibility is a significant advantage when managing collections of data where modifications are frequent. Whether you're adding elements, removing them, or altering existing entries, Python lists offer a range of methods to handle these operations efficiently. This section will guide you through various techniques to modify lists, illustrating how to effectively utilize Python's capabilities to manipulate list contents. We’ll explore adding, removing, and altering elements, ensuring you have a comprehensive understanding of how to interact with list data dynamically."
      ],
      "metadata": {
        "id": "ymC_eEixVkuW"
      }
    },
    {
      "cell_type": "code",
      "source": [
        "# Run this cell!\n",
        "\n",
        "# This modifies the list in place, and therefore does not return the updated list as an output.\n",
        "\n",
        "friends.append(\"Katie\")"
      ],
      "metadata": {
        "id": "i871jVSQtfuw"
      },
      "execution_count": 11,
      "outputs": []
    },
    {
      "cell_type": "code",
      "source": [
        "# Run this cell!\n",
        "\n",
        "# To see the updated list, simply run the cell containing friends after making\n",
        "# changes. This will display the current state of the list.\n",
        "\n",
        "friends"
      ],
      "metadata": {
        "id": "N6KpyYfBWEY5",
        "outputId": "d6b45526-0402-4a44-de7e-28ffe9c95cca",
        "colab": {
          "base_uri": "https://localhost:8080/"
        }
      },
      "execution_count": 12,
      "outputs": [
        {
          "output_type": "execute_result",
          "data": {
            "text/plain": [
              "['Aaron', 'Becky', 'Chad', 'Dustin', 'Eric', 'Katie']"
            ]
          },
          "metadata": {},
          "execution_count": 12
        }
      ]
    },
    {
      "cell_type": "code",
      "source": [
        "# Run this cell!\n",
        "\n",
        "# This modifies the list in place, and therefore does not return the updated list as an output.\n",
        "\n",
        "friends.insert(1, \"Jennifer\")"
      ],
      "metadata": {
        "id": "6-YXKtt4qPXV"
      },
      "execution_count": 16,
      "outputs": []
    },
    {
      "cell_type": "code",
      "source": [],
      "metadata": {
        "id": "SD1xEskfsMKE"
      },
      "execution_count": null,
      "outputs": []
    },
    {
      "cell_type": "code",
      "source": [
        "# Run this cell!\n",
        "\n",
        "# To see the updated list, simply run the cell containing friends after making\n",
        "# changes. This will display the current state of the list.\n",
        "\n",
        "friends"
      ],
      "metadata": {
        "id": "SpLtyXqgWO34",
        "outputId": "4df7f49c-6d3e-4590-d72f-09f7ca468372",
        "colab": {
          "base_uri": "https://localhost:8080/"
        }
      },
      "execution_count": 17,
      "outputs": [
        {
          "output_type": "execute_result",
          "data": {
            "text/plain": [
              "['Aaron',\n",
              " 'Jennifer',\n",
              " 'Jennifer',\n",
              " 'Jennifer',\n",
              " 'Becky',\n",
              " 'Chad',\n",
              " 'Dustin',\n",
              " 'Eric',\n",
              " 'Katie']"
            ]
          },
          "metadata": {},
          "execution_count": 17
        }
      ]
    },
    {
      "cell_type": "code",
      "source": [
        "# Run this cell!\n",
        "\n",
        "friends[0] = \"Kevin\""
      ],
      "metadata": {
        "id": "ushO_KDXa8TW"
      },
      "execution_count": 18,
      "outputs": []
    },
    {
      "cell_type": "code",
      "source": [
        "# Run this cell!\n",
        "\n",
        "# To see the updated list, simply run the cell containing friends after making\n",
        "# changes. This will display the current state of the list.\n",
        "\n",
        "friends"
      ],
      "metadata": {
        "id": "qD26ys8Xa-xj",
        "outputId": "e8147b93-14a1-4eeb-b7f0-37ccac10bbf3",
        "colab": {
          "base_uri": "https://localhost:8080/"
        }
      },
      "execution_count": 19,
      "outputs": [
        {
          "output_type": "execute_result",
          "data": {
            "text/plain": [
              "['Kevin',\n",
              " 'Jennifer',\n",
              " 'Jennifer',\n",
              " 'Jennifer',\n",
              " 'Becky',\n",
              " 'Chad',\n",
              " 'Dustin',\n",
              " 'Eric',\n",
              " 'Katie']"
            ]
          },
          "metadata": {},
          "execution_count": 19
        }
      ]
    },
    {
      "cell_type": "code",
      "source": [
        "# Run this cell!\n",
        "\n",
        "# This modifies the list in place, and therefore does not return the updated list as an output.\n",
        "\n",
        "\n",
        "friends.remove(\"Katie\")"
      ],
      "metadata": {
        "id": "d3W3xKqBqJtb"
      },
      "execution_count": 20,
      "outputs": []
    },
    {
      "cell_type": "code",
      "source": [
        "# Run this cell!\n",
        "\n",
        "# To see the updated list, simply run the cell containing friends after making\n",
        "# changes. This will display the current state of the list.\n",
        "\n",
        "friends"
      ],
      "metadata": {
        "id": "gHhlRsGWYMJf",
        "outputId": "8dc917db-970f-4aca-9689-1a83333b0db7",
        "colab": {
          "base_uri": "https://localhost:8080/"
        }
      },
      "execution_count": 21,
      "outputs": [
        {
          "output_type": "execute_result",
          "data": {
            "text/plain": [
              "['Kevin',\n",
              " 'Jennifer',\n",
              " 'Jennifer',\n",
              " 'Jennifer',\n",
              " 'Becky',\n",
              " 'Chad',\n",
              " 'Dustin',\n",
              " 'Eric']"
            ]
          },
          "metadata": {},
          "execution_count": 21
        }
      ]
    },
    {
      "cell_type": "markdown",
      "source": [
        "---"
      ],
      "metadata": {
        "id": "ysRhcsKft27B"
      }
    },
    {
      "cell_type": "markdown",
      "metadata": {
        "id": "gqQArSbM6BdE"
      },
      "source": [
        "## **🛝 Practice Playground** - Section 3\n",
        "Lists are one of the most versatile data structures in Python, equipped with a multitude of methods for manipulating their contents. Understanding these methods can significantly enhance your ability to work with lists effectively! You have seen some of these methods previously, but this section will explore the key methods for list manipulation, providing detailed examples to illustrate their use in real-world scenarios."
      ]
    },
    {
      "cell_type": "code",
      "source": [
        "# Run this cell!\n",
        "\n",
        "colors = ['red', 'blue', 'green']"
      ],
      "metadata": {
        "id": "LholcXPzb-Yl"
      },
      "execution_count": 22,
      "outputs": []
    },
    {
      "cell_type": "code",
      "source": [
        "# Run this cell!\n",
        "\n",
        "colors.append('yellow')"
      ],
      "metadata": {
        "id": "jiaSzKv5hZey"
      },
      "execution_count": 23,
      "outputs": []
    },
    {
      "cell_type": "code",
      "source": [
        "# Run this cell!\n",
        "\n",
        "# To see the updated list, simply run the cell containing colors after making\n",
        "# changes. This will display the current state of the list.\n",
        "\n",
        "colors"
      ],
      "metadata": {
        "id": "pfJGuGnscDVr"
      },
      "execution_count": null,
      "outputs": []
    },
    {
      "cell_type": "code",
      "source": [
        "# Run this cell!\n",
        "\n",
        "more_colors = ['orange', 'purple']\n",
        "colors.extend(more_colors)"
      ],
      "metadata": {
        "id": "mkwRdMHGb-Wb"
      },
      "execution_count": 24,
      "outputs": []
    },
    {
      "cell_type": "code",
      "source": [
        "# Run this cell!\n",
        "\n",
        "# To see the updated list, simply run the cell containing colors after making\n",
        "# changes. This will display the current state of the list.\n",
        "\n",
        "colors"
      ],
      "metadata": {
        "id": "QI0_d8tjb-Ua",
        "outputId": "c5bfd2fe-7038-4fa2-ef90-a1126c7eee68",
        "colab": {
          "base_uri": "https://localhost:8080/"
        }
      },
      "execution_count": 25,
      "outputs": [
        {
          "output_type": "execute_result",
          "data": {
            "text/plain": [
              "['red', 'blue', 'green', 'yellow', 'orange', 'purple']"
            ]
          },
          "metadata": {},
          "execution_count": 25
        }
      ]
    },
    {
      "cell_type": "code",
      "source": [
        "# Run this cell!\n",
        "\n",
        "colors.insert(3, 'black')"
      ],
      "metadata": {
        "id": "AJjnNH7Fb-Sh"
      },
      "execution_count": 26,
      "outputs": []
    },
    {
      "cell_type": "code",
      "source": [
        "# Run this cell!\n",
        "\n",
        "# To see the updated list, simply run the cell containing colors after making\n",
        "# changes. This will display the current state of the list.\n",
        "\n",
        "colors"
      ],
      "metadata": {
        "id": "6U8FtiZub-Qd",
        "outputId": "acafea40-b826-41bf-a9d8-9e21e3b458ff",
        "colab": {
          "base_uri": "https://localhost:8080/"
        }
      },
      "execution_count": 27,
      "outputs": [
        {
          "output_type": "execute_result",
          "data": {
            "text/plain": [
              "['red', 'blue', 'green', 'black', 'yellow', 'orange', 'purple']"
            ]
          },
          "metadata": {},
          "execution_count": 27
        }
      ]
    },
    {
      "cell_type": "code",
      "source": [
        "# Run this cell!\n",
        "\n",
        "colors.remove('black')"
      ],
      "metadata": {
        "id": "4_SfH5gEb-OQ"
      },
      "execution_count": 28,
      "outputs": []
    },
    {
      "cell_type": "code",
      "source": [
        "# Run this cell!\n",
        "\n",
        "# To see the updated list, simply run the cell containing colors after making\n",
        "# changes. This will display the current state of the list.\n",
        "\n",
        "colors"
      ],
      "metadata": {
        "id": "GJwMamxzdHJq",
        "outputId": "0d21fed4-ca7c-4965-f27d-03a0a4d485e6",
        "colab": {
          "base_uri": "https://localhost:8080/"
        }
      },
      "execution_count": 29,
      "outputs": [
        {
          "output_type": "execute_result",
          "data": {
            "text/plain": [
              "['red', 'blue', 'green', 'yellow', 'orange', 'purple']"
            ]
          },
          "metadata": {},
          "execution_count": 29
        }
      ]
    },
    {
      "cell_type": "code",
      "source": [
        "# Run this cell!\n",
        "\n",
        "colors.index('purple')"
      ],
      "metadata": {
        "id": "UeX5_ATZb-Lt",
        "outputId": "d8add48a-c77b-4485-e511-efd288f5f9ef",
        "colab": {
          "base_uri": "https://localhost:8080/"
        }
      },
      "execution_count": 30,
      "outputs": [
        {
          "output_type": "execute_result",
          "data": {
            "text/plain": [
              "5"
            ]
          },
          "metadata": {},
          "execution_count": 30
        }
      ]
    },
    {
      "cell_type": "code",
      "source": [
        "# Run this cell!\n",
        "\n",
        "colors.count('blue')"
      ],
      "metadata": {
        "id": "31Ldf19qcN3F",
        "outputId": "9e66b916-38ed-4d24-e6dd-15929c020715",
        "colab": {
          "base_uri": "https://localhost:8080/"
        }
      },
      "execution_count": 31,
      "outputs": [
        {
          "output_type": "execute_result",
          "data": {
            "text/plain": [
              "1"
            ]
          },
          "metadata": {},
          "execution_count": 31
        }
      ]
    },
    {
      "cell_type": "code",
      "source": [
        "# Run this cell!\n",
        "\n",
        "colors.append('blue')"
      ],
      "metadata": {
        "id": "jAJ9K2GKhjfs"
      },
      "execution_count": 32,
      "outputs": []
    },
    {
      "cell_type": "code",
      "source": [
        "# Run this cell!\n",
        "\n",
        "colors"
      ],
      "metadata": {
        "id": "tVOiTiMshmFE"
      },
      "execution_count": null,
      "outputs": []
    },
    {
      "cell_type": "code",
      "source": [
        "# Run this cell!\n",
        "\n",
        "colors.count('blue')"
      ],
      "metadata": {
        "id": "SlkyFC92hnWA",
        "outputId": "3ade08f2-5801-483d-d701-74643c3fbbe7",
        "colab": {
          "base_uri": "https://localhost:8080/"
        }
      },
      "execution_count": 33,
      "outputs": [
        {
          "output_type": "execute_result",
          "data": {
            "text/plain": [
              "2"
            ]
          },
          "metadata": {},
          "execution_count": 33
        }
      ]
    },
    {
      "cell_type": "code",
      "source": [
        "# Run this cell!\n",
        "\n",
        "numbers = [3, 1, 4, 1, 5, 9, 2]"
      ],
      "metadata": {
        "id": "rcnDbhXhcNz8"
      },
      "execution_count": 34,
      "outputs": []
    },
    {
      "cell_type": "code",
      "source": [
        "# Run this cell!\n",
        "\n",
        "numbers.sort()"
      ],
      "metadata": {
        "id": "Jvi3VIswcS-T"
      },
      "execution_count": 35,
      "outputs": []
    },
    {
      "cell_type": "code",
      "source": [
        "# Run this cell!\n",
        "\n",
        "numbers"
      ],
      "metadata": {
        "id": "jVMcbMb3hz3i",
        "outputId": "04d9d3dd-d466-41df-a44a-8c0e35327546",
        "colab": {
          "base_uri": "https://localhost:8080/"
        }
      },
      "execution_count": 36,
      "outputs": [
        {
          "output_type": "execute_result",
          "data": {
            "text/plain": [
              "[1, 1, 2, 3, 4, 5, 9]"
            ]
          },
          "metadata": {},
          "execution_count": 36
        }
      ]
    },
    {
      "cell_type": "code",
      "source": [
        "# Run this cell!\n",
        "\n",
        "numbers.reverse()"
      ],
      "metadata": {
        "id": "QQiEtoO6cNvp"
      },
      "execution_count": 37,
      "outputs": []
    },
    {
      "cell_type": "code",
      "source": [
        "# Run this cell!\n",
        "\n",
        "numbers[::-1]"
      ],
      "metadata": {
        "id": "J32XglMeh19o",
        "outputId": "c7334b1b-93d1-4a6e-ebfe-913ad3edf1b6",
        "colab": {
          "base_uri": "https://localhost:8080/"
        }
      },
      "execution_count": 39,
      "outputs": [
        {
          "output_type": "execute_result",
          "data": {
            "text/plain": [
              "[1, 1, 2, 3, 4, 5, 9]"
            ]
          },
          "metadata": {},
          "execution_count": 39
        }
      ]
    },
    {
      "cell_type": "code",
      "source": [
        "# Run this cell!\n",
        "\n",
        "movies = ['Avatar', 'Interstellar', 'Se7en', 'Inception', 'Barbie']"
      ],
      "metadata": {
        "id": "7CtBvWJPcjk-"
      },
      "execution_count": null,
      "outputs": []
    },
    {
      "cell_type": "code",
      "source": [
        "# Run this cell!\n",
        "\n",
        "len(movies)"
      ],
      "metadata": {
        "colab": {
          "base_uri": "https://localhost:8080/"
        },
        "id": "sxTTWQHUcji7",
        "outputId": "2b27778f-cc56-47ba-ba93-35106035cf75"
      },
      "execution_count": null,
      "outputs": [
        {
          "output_type": "execute_result",
          "data": {
            "text/plain": [
              "5"
            ]
          },
          "metadata": {},
          "execution_count": 95
        }
      ]
    },
    {
      "cell_type": "code",
      "source": [
        "# Run this cell!\n",
        "\n",
        "exam_scores = [99, 80, 72, 50, 100, 98, 84, 83, 91, 75, 76, 63, 87, 90]"
      ],
      "metadata": {
        "id": "VSL_71QwdpPZ"
      },
      "execution_count": 51,
      "outputs": []
    },
    {
      "cell_type": "code",
      "source": [
        "# Run this cell!\n",
        "\n",
        "sorted_exam_scores = sorted(exam_scores)\n",
        "print(sorted_exam_scores)"
      ],
      "metadata": {
        "id": "_LkdwZfZcjgd",
        "outputId": "e445f0c3-6a73-4a7c-c802-24c6558c6705",
        "colab": {
          "base_uri": "https://localhost:8080/"
        }
      },
      "execution_count": 53,
      "outputs": [
        {
          "output_type": "stream",
          "name": "stdout",
          "text": [
            "[50, 63, 72, 75, 76, 80, 83, 84, 87, 90, 91, 98, 99, 100]\n"
          ]
        }
      ]
    },
    {
      "cell_type": "code",
      "source": [
        "# Run this cell!\n",
        "\n",
        "sum(exam_scores)"
      ],
      "metadata": {
        "id": "yMRZhqF9djht"
      },
      "execution_count": null,
      "outputs": []
    },
    {
      "cell_type": "code",
      "source": [
        "# Run this cell!\n",
        "\n",
        "max(exam_scores)"
      ],
      "metadata": {
        "id": "rAoH88q3djfm"
      },
      "execution_count": null,
      "outputs": []
    },
    {
      "cell_type": "code",
      "source": [
        "# Run this cell!\n",
        "\n",
        "min(exam_scores)"
      ],
      "metadata": {
        "id": "b_97QrFPf100"
      },
      "execution_count": null,
      "outputs": []
    },
    {
      "cell_type": "code",
      "source": [
        "# Run this cell!\n",
        "\n",
        "len(exam_scores)"
      ],
      "metadata": {
        "id": "HYwDb1Fnf_Ft"
      },
      "execution_count": null,
      "outputs": []
    },
    {
      "cell_type": "code",
      "source": [
        "# Run this cell!\n",
        "\n",
        "average = sum(exam_scores) / len(exam_scores)\n",
        "average"
      ],
      "metadata": {
        "id": "ZuibVMNygArd"
      },
      "execution_count": null,
      "outputs": []
    },
    {
      "cell_type": "markdown",
      "source": [
        "## **🛝 Practice Playground** - Section 4\n",
        "\n",
        "Nested lists are a powerful feature in Python that allow you to create complex data structures, such as matrices or multi-dimensional arrays. Here’s a detailed look at how to work with a nested list, particularly how to access elements within inner lists."
      ],
      "metadata": {
        "id": "xcP6OwzZnd2s"
      }
    },
    {
      "cell_type": "code",
      "source": [
        "# Run this cell!\n",
        "\n",
        "nested_list = [1, [2, 3], [4, [5, 6]], 7]"
      ],
      "metadata": {
        "id": "fWeEjTMxnddR",
        "outputId": "ada47323-fd57-4fc7-ccd2-7a7e56009e1c",
        "colab": {
          "base_uri": "https://localhost:8080/"
        }
      },
      "execution_count": 55,
      "outputs": [
        {
          "output_type": "stream",
          "name": "stdout",
          "text": [
            "[1, [2, 3], [4, [5, 6]], 7]\n"
          ]
        }
      ]
    },
    {
      "cell_type": "code",
      "source": [
        "# Run this cell!\n",
        "\n",
        "nested_list[2]"
      ],
      "metadata": {
        "id": "dZeenoKXnnRC",
        "outputId": "d96d7ba5-10bc-42b7-87f4-7925ada93b5a",
        "colab": {
          "base_uri": "https://localhost:8080/"
        }
      },
      "execution_count": 56,
      "outputs": [
        {
          "output_type": "execute_result",
          "data": {
            "text/plain": [
              "[4, [5, 6]]"
            ]
          },
          "metadata": {},
          "execution_count": 56
        }
      ]
    },
    {
      "cell_type": "code",
      "source": [
        "# Run this cell!\n",
        "\n",
        "nested_list[2][1]"
      ],
      "metadata": {
        "id": "uqyg432LnpdA",
        "outputId": "e10f624d-c60d-45e2-9293-77d0628a9099",
        "colab": {
          "base_uri": "https://localhost:8080/"
        }
      },
      "execution_count": 57,
      "outputs": [
        {
          "output_type": "execute_result",
          "data": {
            "text/plain": [
              "[5, 6]"
            ]
          },
          "metadata": {},
          "execution_count": 57
        }
      ]
    },
    {
      "cell_type": "code",
      "source": [
        "# Run this cell!\n",
        "\n",
        "nested_list[2][1][1]"
      ],
      "metadata": {
        "id": "DTOERilGnsKl",
        "outputId": "58f13aba-7b45-452f-b06b-645af80bb80b",
        "colab": {
          "base_uri": "https://localhost:8080/"
        }
      },
      "execution_count": 58,
      "outputs": [
        {
          "output_type": "execute_result",
          "data": {
            "text/plain": [
              "6"
            ]
          },
          "metadata": {},
          "execution_count": 58
        }
      ]
    }
  ],
  "metadata": {
    "anaconda-cloud": {},
    "colab": {
      "provenance": [],
      "include_colab_link": true
    },
    "kernelspec": {
      "display_name": "Python 3 (ipykernel)",
      "language": "python",
      "name": "python3"
    },
    "language_info": {
      "codemirror_mode": {
        "name": "ipython",
        "version": 3
      },
      "file_extension": ".py",
      "mimetype": "text/x-python",
      "name": "python",
      "nbconvert_exporter": "python",
      "pygments_lexer": "ipython3",
      "version": "3.11.7"
    }
  },
  "nbformat": 4,
  "nbformat_minor": 0
}