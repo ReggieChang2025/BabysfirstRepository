{
  "cells": [
    {
      "cell_type": "markdown",
      "metadata": {
        "id": "view-in-github",
        "colab_type": "text"
      },
      "source": [
        "<a href=\"https://colab.research.google.com/github/ReggieChang2025/BabysfirstRepository/blob/main/%F0%9F%93%9A_Lesson_Strings.ipynb\" target=\"_parent\"><img src=\"https://colab.research.google.com/assets/colab-badge.svg\" alt=\"Open In Colab\"/></a>"
      ]
    },
    {
      "cell_type": "markdown",
      "metadata": {
        "id": "3E2D_PWb6BdA"
      },
      "source": [
        "<div>\n",
        "<img src=\"https://coursereport-s3-production.global.ssl.fastly.net/uploads/school/logo/219/original/CT_LOGO_NEW.jpg\" width=60>\n",
        "</div>\n",
        "\n",
        "#  **Strings**\n",
        "\n",
        "*Be sure to be following along with the lesson page before progressing in this notebook!*"
      ]
    },
    {
      "cell_type": "markdown",
      "source": [
        "## **🛝 Practice Playground** - Section 1\n",
        "In Python, strings are sequences of characters used to store and manipulate text. They are enclosed in quotes and can use either single quotes (') or double quotes (\"), allowing for flexibility depending on the content of the string itself."
      ],
      "metadata": {
        "id": "YOUiHU27y0mn"
      }
    },
    {
      "cell_type": "code",
      "execution_count": 1,
      "metadata": {
        "id": "ZvzqVRb86BdP",
        "outputId": "689d35b8-eec6-4a02-e600-5012569ef6c6",
        "colab": {
          "base_uri": "https://localhost:8080/",
          "height": 35
        }
      },
      "outputs": [
        {
          "output_type": "execute_result",
          "data": {
            "text/plain": [
              "'Hello, world!'"
            ],
            "application/vnd.google.colaboratory.intrinsic+json": {
              "type": "string"
            }
          },
          "metadata": {},
          "execution_count": 1
        }
      ],
      "source": [
        "# Run this cell!\n",
        "\n",
        "'Hello, world!'"
      ]
    },
    {
      "cell_type": "code",
      "execution_count": 2,
      "metadata": {
        "id": "YbetqlU_6BdP",
        "outputId": "dd0044dd-6955-4c08-c7e8-9a1a95f7e545",
        "colab": {
          "base_uri": "https://localhost:8080/"
        }
      },
      "outputs": [
        {
          "output_type": "stream",
          "name": "stdout",
          "text": [
            "Hello, world!\n"
          ]
        }
      ],
      "source": [
        "# Run this cell!\n",
        "\n",
        "print('Hello, world!')"
      ]
    },
    {
      "cell_type": "code",
      "source": [
        "# Run this cell!\n",
        "\n",
        "print(\"Line one\\nLine two\")"
      ],
      "metadata": {
        "id": "COZbkLYTs56N",
        "outputId": "270d2052-8517-4f1b-9d3e-51ddd3fd7c8c",
        "colab": {
          "base_uri": "https://localhost:8080/"
        }
      },
      "execution_count": 3,
      "outputs": [
        {
          "output_type": "stream",
          "name": "stdout",
          "text": [
            "Line one\n",
            "Line two\n"
          ]
        }
      ]
    },
    {
      "cell_type": "code",
      "source": [
        "# Run this cell!\n",
        "\n",
        "print(\"Name:\\tJohn\")"
      ],
      "metadata": {
        "id": "nqyQ50bQtpuW",
        "outputId": "725df49a-f0ef-4fe5-f87c-4e9ecb7bead1",
        "colab": {
          "base_uri": "https://localhost:8080/"
        }
      },
      "execution_count": 4,
      "outputs": [
        {
          "output_type": "stream",
          "name": "stdout",
          "text": [
            "Name:\tJohn\n"
          ]
        }
      ]
    },
    {
      "cell_type": "code",
      "source": [
        "# Run this cell!\n",
        "\n",
        "# NOTE: You will receive an error because no escape character is used!\n",
        "# Python believes you are trying to end the sentence earlier than intended.\n",
        "\n",
        "print('It's a sunny day.')"
      ],
      "metadata": {
        "id": "ZLe3ZOz7qQ3r",
        "outputId": "3f025515-0ade-4075-e1e4-43b560923d58",
        "colab": {
          "base_uri": "https://localhost:8080/",
          "height": 108
        }
      },
      "execution_count": 5,
      "outputs": [
        {
          "output_type": "error",
          "ename": "SyntaxError",
          "evalue": "unterminated string literal (detected at line 6) (<ipython-input-5-9eb0597f6218>, line 6)",
          "traceback": [
            "\u001b[0;36m  File \u001b[0;32m\"<ipython-input-5-9eb0597f6218>\"\u001b[0;36m, line \u001b[0;32m6\u001b[0m\n\u001b[0;31m    print('It's a sunny day.')\u001b[0m\n\u001b[0m                            ^\u001b[0m\n\u001b[0;31mSyntaxError\u001b[0m\u001b[0;31m:\u001b[0m unterminated string literal (detected at line 6)\n"
          ]
        }
      ]
    },
    {
      "cell_type": "code",
      "source": [
        "# Run this cell!\n",
        "\n",
        "print('It\\'s a sunny day.')\n",
        "print('It\\'s a sunny day.\\n and the rain\\'ll go away')"
      ],
      "metadata": {
        "id": "Avxqm-Tds86J",
        "outputId": "f724b674-d087-4bd2-c25c-757745accf0d",
        "colab": {
          "base_uri": "https://localhost:8080/"
        }
      },
      "execution_count": 7,
      "outputs": [
        {
          "output_type": "stream",
          "name": "stdout",
          "text": [
            "It's a sunny day.\n",
            "It's a sunny day.\n",
            " and the rain'll go away\n"
          ]
        }
      ]
    },
    {
      "cell_type": "code",
      "source": [
        "# Run this cell!\n",
        "\n",
        "# NOTE: You will receive an error because no escape character is used!\n",
        "# Run this cell!\n",
        "\n",
        "# NOTE: You will receive an error because no escape character is used!\n",
        "# Python believes you are trying to end the sentence earlier than intended.\n",
        "\n",
        "print(\"He said, \\\"Hello!\\\"\")"
      ],
      "metadata": {
        "id": "i871jVSQtfuw",
        "outputId": "5866bd5e-67bc-4753-fc91-b42c14992fd2",
        "colab": {
          "base_uri": "https://localhost:8080/",
          "height": 108
        }
      },
      "execution_count": 8,
      "outputs": [
        {
          "output_type": "error",
          "ename": "SyntaxError",
          "evalue": "invalid syntax. Perhaps you forgot a comma? (<ipython-input-8-7d8219506a91>, line 6)",
          "traceback": [
            "\u001b[0;36m  File \u001b[0;32m\"<ipython-input-8-7d8219506a91>\"\u001b[0;36m, line \u001b[0;32m6\u001b[0m\n\u001b[0;31m    print(\"He said, \"Hello!\"\")\u001b[0m\n\u001b[0m          ^\u001b[0m\n\u001b[0;31mSyntaxError\u001b[0m\u001b[0;31m:\u001b[0m invalid syntax. Perhaps you forgot a comma?\n"
          ]
        }
      ]
    },
    {
      "cell_type": "code",
      "source": [
        "# Run this cell!\n",
        "\n",
        "print(\"He said, \\\"Hello!\\\"\")"
      ],
      "metadata": {
        "id": "6-YXKtt4qPXV",
        "outputId": "f252bdfb-87f1-41db-9b94-21e779821972",
        "colab": {
          "base_uri": "https://localhost:8080/"
        }
      },
      "execution_count": 9,
      "outputs": [
        {
          "output_type": "stream",
          "name": "stdout",
          "text": [
            "He said, \"Hello!\"\n"
          ]
        }
      ]
    },
    {
      "cell_type": "code",
      "source": [
        "# Run this cell!\n",
        "\n",
        "multi_line_string = \"\"\"This is a string that spans\n",
        "multiple lines. We can easily write text over several\n",
        "lines without using escape characters for new lines.\"\"\"\n",
        "print(multi_line_string)"
      ],
      "metadata": {
        "id": "d3W3xKqBqJtb",
        "outputId": "558243d4-bf8a-4cd6-e0ec-04e8652ec9d3",
        "colab": {
          "base_uri": "https://localhost:8080/"
        }
      },
      "execution_count": 10,
      "outputs": [
        {
          "output_type": "stream",
          "name": "stdout",
          "text": [
            "This is a string that spans\n",
            "multiple lines. We can easily write text over several\n",
            "lines without using escape characters for new lines.\n"
          ]
        }
      ]
    },
    {
      "cell_type": "markdown",
      "source": [
        "---"
      ],
      "metadata": {
        "id": "ysRhcsKft27B"
      }
    },
    {
      "cell_type": "markdown",
      "metadata": {
        "id": "gqQArSbM6BdE"
      },
      "source": [
        "## **🛝 Practice Playground** - Section 2\n",
        "In Python, string manipulation is not only powerful but also intuitive, allowing you to perform a variety of operations that can modify and combine strings in useful ways. Understanding these operations will enable you to handle text data more effectively."
      ]
    },
    {
      "cell_type": "code",
      "execution_count": 11,
      "metadata": {
        "id": "GOd-KaSA6BdF",
        "colab": {
          "base_uri": "https://localhost:8080/",
          "height": 35
        },
        "outputId": "feba114c-985b-44ee-cf3c-f12b19137ce5"
      },
      "outputs": [
        {
          "output_type": "execute_result",
          "data": {
            "text/plain": [
              "'Hello, Alice!'"
            ],
            "application/vnd.google.colaboratory.intrinsic+json": {
              "type": "string"
            }
          },
          "metadata": {},
          "execution_count": 11
        }
      ],
      "source": [
        "# Run this cell!\n",
        "\n",
        "greeting = \"Hello\"\n",
        "name = \"Alice\"\n",
        "message = greeting + \", \" + name + \"!\"\n",
        "message"
      ]
    },
    {
      "cell_type": "code",
      "source": [
        "# Run this cell!\n",
        "\n",
        "laugh = \"Ha\"\n",
        "laugh * 10"
      ],
      "metadata": {
        "id": "yNq8jO0Ma3vW",
        "outputId": "7a13445d-17bd-4b46-c20c-5db5e08a4a0f",
        "colab": {
          "base_uri": "https://localhost:8080/",
          "height": 35
        }
      },
      "execution_count": 12,
      "outputs": [
        {
          "output_type": "execute_result",
          "data": {
            "text/plain": [
              "'HaHaHaHaHaHaHaHaHaHa'"
            ],
            "application/vnd.google.colaboratory.intrinsic+json": {
              "type": "string"
            }
          },
          "metadata": {},
          "execution_count": 12
        }
      ]
    },
    {
      "cell_type": "code",
      "execution_count": 13,
      "metadata": {
        "id": "hEro9QDR6BdH",
        "outputId": "3cbcb57f-1f0d-4030-c06d-c65df34717f8",
        "colab": {
          "base_uri": "https://localhost:8080/",
          "height": 35
        }
      },
      "outputs": [
        {
          "output_type": "execute_result",
          "data": {
            "text/plain": [
              "'**********'"
            ],
            "application/vnd.google.colaboratory.intrinsic+json": {
              "type": "string"
            }
          },
          "metadata": {},
          "execution_count": 13
        }
      ],
      "source": [
        "# Run this cell!\n",
        "\n",
        "'*' * 10\n"
      ]
    },
    {
      "cell_type": "code",
      "execution_count": 14,
      "metadata": {
        "id": "7fyd91V46BdI",
        "outputId": "1b85828a-9332-4912-f53e-bef95315f1e5",
        "colab": {
          "base_uri": "https://localhost:8080/"
        }
      },
      "outputs": [
        {
          "output_type": "stream",
          "name": "stdout",
          "text": [
            "         *\n",
            "        ***\n",
            "       *****\n",
            "      *******\n",
            "     *********\n",
            "    ***********\n",
            "   *************\n",
            "  ***************\n",
            " *****************\n",
            "*******************\n",
            "        |||\n",
            "        |||\n"
          ]
        }
      ],
      "source": [
        "# Run this cell!\n",
        "\n",
        "print(' ' * 9 + '*' * 1)\n",
        "print(' ' * 8 + '*' * 3)\n",
        "print(' ' * 7 + '*' * 5)\n",
        "print(' ' * 6 + '*' * 7)\n",
        "print(' ' * 5 + '*' * 9)\n",
        "print(' ' * 4 + '*' * 11)\n",
        "print(' ' * 3 + '*' * 13)\n",
        "print(' ' * 2 + '*' * 15)\n",
        "print(' ' * 1 + '*' * 17)\n",
        "print(' ' * 0 + '*' * 19)\n",
        "print(' ' * 8 + '|||')\n",
        "print(' ' * 8 + '|||')"
      ]
    },
    {
      "cell_type": "markdown",
      "source": [
        "---"
      ],
      "metadata": {
        "id": "J-WWpbFO6O8R"
      }
    },
    {
      "cell_type": "markdown",
      "metadata": {
        "id": "IUTVJ9086BdN"
      },
      "source": [
        "## **🛝 Practice Playground** - Section 3\n",
        "Python strings come equipped with numerous built-in methods that allow you to perform common tasks such as converting to uppercase, capitalizing, or replacing parts of the string."
      ]
    },
    {
      "cell_type": "code",
      "source": [
        "# Run this cell!\n",
        "\n",
        "quote = \"practice makes perfect\"\n",
        "print(quote.upper())\n",
        "print(quote.title())\n",
        "print(quote.lower())\n",
        "\n",
        "quote = \"a the 3 the at\"\n",
        "print(quote.title())"
      ],
      "metadata": {
        "id": "umbbj9FtWct2",
        "outputId": "32fb97c3-74dc-4d78-fc95-334f6bc0cc4e",
        "colab": {
          "base_uri": "https://localhost:8080/"
        }
      },
      "execution_count": 19,
      "outputs": [
        {
          "output_type": "stream",
          "name": "stdout",
          "text": [
            "PRACTICE MAKES PERFECT\n",
            "Practice Makes Perfect\n",
            "practice makes perfect\n",
            "A The 3 The At\n"
          ]
        }
      ]
    },
    {
      "cell_type": "code",
      "source": [
        "# Run this cell!\n",
        "\n",
        "sentence = \"The weather is nice\"\n",
        "# Create the translation table using maketrans.\n",
        "translation_table = str.maketrans({\"e\": \"3\", \"i\": \"1\"})\n",
        "# Use the translation table in the replace method by iterating through it.\n",
        "# and replacing in the original string with the values in the table.\n",
        "modified_sentence = sentence.translate(translation_table)\n",
        "modified_sentence # Print the modified string."
      ],
      "metadata": {
        "id": "oPjFRvs-n1ob",
        "outputId": "013f134a-7833-4ac3-f477-a2fa29065dd7",
        "colab": {
          "base_uri": "https://localhost:8080/",
          "height": 35
        }
      },
      "execution_count": 29,
      "outputs": [
        {
          "output_type": "execute_result",
          "data": {
            "text/plain": [
              "'Th3 w3ath3r 1s n1c3'"
            ],
            "application/vnd.google.colaboratory.intrinsic+json": {
              "type": "string"
            }
          },
          "metadata": {},
          "execution_count": 29
        }
      ]
    },
    {
      "cell_type": "code",
      "source": [
        "# Run this cell!\n",
        "\n",
        "sentence = \"The weather is nice\"\n",
        "sentence.split(\" \")"
      ],
      "metadata": {
        "id": "vmmn95FtrtvM",
        "outputId": "c371855c-8bb5-4d5d-e36d-c4a27fba7b26",
        "colab": {
          "base_uri": "https://localhost:8080/"
        }
      },
      "execution_count": 30,
      "outputs": [
        {
          "output_type": "execute_result",
          "data": {
            "text/plain": [
              "['The', 'weather', 'is', 'nice']"
            ]
          },
          "metadata": {},
          "execution_count": 30
        }
      ]
    },
    {
      "cell_type": "code",
      "source": [
        "# Run this cell!\n",
        "\n",
        "# NOTE: The default is to split on a space! This is why this cell and the one above result in the same output.\n",
        "\n",
        "sentence = \"The weather is nice\"\n",
        "sentence.split()"
      ],
      "metadata": {
        "id": "KDcDxyd4r2SU",
        "outputId": "e48dd941-2b50-4d38-83c9-fce8b06eed18",
        "colab": {
          "base_uri": "https://localhost:8080/"
        }
      },
      "execution_count": 31,
      "outputs": [
        {
          "output_type": "execute_result",
          "data": {
            "text/plain": [
              "['The', 'weather', 'is', 'nice']"
            ]
          },
          "metadata": {},
          "execution_count": 31
        }
      ]
    },
    {
      "cell_type": "code",
      "source": [
        "# Run this cell!\n",
        "\n",
        "sentence = \"The weather is nice\"\n",
        "sentence.split(\"4\")"
      ],
      "metadata": {
        "id": "uN1hGq6Cr2z0",
        "outputId": "2abc80ca-6610-421b-82ea-c18f20a6a574",
        "colab": {
          "base_uri": "https://localhost:8080/"
        }
      },
      "execution_count": 35,
      "outputs": [
        {
          "output_type": "execute_result",
          "data": {
            "text/plain": [
              "['The weather is nice']"
            ]
          },
          "metadata": {},
          "execution_count": 35
        }
      ]
    },
    {
      "cell_type": "markdown",
      "source": [
        "## **🛝 Practice Playground** - Section 4\n",
        "F-strings, introduced in Python 3.6, offer a highly readable way to embed expressions inside string literals directly. By using curly braces {}, you can incorporate variables, expressions, and formatted output seamlessly into your strings."
      ],
      "metadata": {
        "id": "zY7ApqpSrfAZ"
      }
    },
    {
      "cell_type": "code",
      "source": [
        "# Run this cell!\n",
        "\n",
        "name = \"Alice\"\n",
        "age = 30\n",
        "greeting = f\"Hello, my name is {name} and I am {age} years old.\"\n",
        "greeting"
      ],
      "metadata": {
        "id": "-T4awlzesqRW",
        "outputId": "6fecf2de-090b-4cdf-f0f6-b02b8d271393",
        "colab": {
          "base_uri": "https://localhost:8080/",
          "height": 35
        }
      },
      "execution_count": 36,
      "outputs": [
        {
          "output_type": "execute_result",
          "data": {
            "text/plain": [
              "'Hello, my name is Alice and I am 30 years old.'"
            ],
            "application/vnd.google.colaboratory.intrinsic+json": {
              "type": "string"
            }
          },
          "metadata": {},
          "execution_count": 36
        }
      ]
    },
    {
      "cell_type": "code",
      "source": [
        "# Run this cell!\n",
        "\n",
        "hours = 8\n",
        "rate = 15.75\n",
        "pay = f\"Total pay: ${hours * rate}\"\n",
        "pay"
      ],
      "metadata": {
        "id": "HPaJbfCfsqPJ",
        "outputId": "1f4f77c6-f9f6-4183-ee03-89648a216d9c",
        "colab": {
          "base_uri": "https://localhost:8080/",
          "height": 35
        }
      },
      "execution_count": 37,
      "outputs": [
        {
          "output_type": "execute_result",
          "data": {
            "text/plain": [
              "'Total pay: $126.0'"
            ],
            "application/vnd.google.colaboratory.intrinsic+json": {
              "type": "string"
            }
          },
          "metadata": {},
          "execution_count": 37
        }
      ]
    },
    {
      "cell_type": "code",
      "source": [
        "# Run this cell!\n",
        "\n",
        "pi = 3.1415926535\n",
        "formatted_pi = f\"Pi rounded to two decimal places: {pi:.2f}\"\n",
        "formatted_pi"
      ],
      "metadata": {
        "id": "EfEzUAfXsqMC",
        "outputId": "27db0938-f652-40a6-e710-584dae33469a",
        "colab": {
          "base_uri": "https://localhost:8080/",
          "height": 35
        }
      },
      "execution_count": 38,
      "outputs": [
        {
          "output_type": "execute_result",
          "data": {
            "text/plain": [
              "'Pi rounded to two decimal places: 3.14'"
            ],
            "application/vnd.google.colaboratory.intrinsic+json": {
              "type": "string"
            }
          },
          "metadata": {},
          "execution_count": 38
        }
      ]
    },
    {
      "cell_type": "code",
      "source": [
        "# Run this cell!\n",
        "\n",
        "large_number = 1000000\n",
        "f\"Formatted number: {large_number:,}\"\n"
      ],
      "metadata": {
        "id": "33OfXsrAsqJQ",
        "outputId": "db3d469a-a030-4633-cf02-0cd682708cde",
        "colab": {
          "base_uri": "https://localhost:8080/",
          "height": 35
        }
      },
      "execution_count": 40,
      "outputs": [
        {
          "output_type": "execute_result",
          "data": {
            "text/plain": [
              "'Formatted number: 1,000,000'"
            ],
            "application/vnd.google.colaboratory.intrinsic+json": {
              "type": "string"
            }
          },
          "metadata": {},
          "execution_count": 40
        }
      ]
    },
    {
      "cell_type": "code",
      "source": [
        "# Run this cell!\n",
        "\n",
        "quantity = 5\n",
        "formatted_quantity = f\"Quantity: {quantity:03d}\"\n",
        "formatted_quantity"
      ],
      "metadata": {
        "id": "vcNeUTyBs6FH",
        "outputId": "53f176de-1679-4eed-eb7f-8321b7e09ff3",
        "colab": {
          "base_uri": "https://localhost:8080/",
          "height": 35
        }
      },
      "execution_count": 41,
      "outputs": [
        {
          "output_type": "execute_result",
          "data": {
            "text/plain": [
              "'Quantity: 005'"
            ],
            "application/vnd.google.colaboratory.intrinsic+json": {
              "type": "string"
            }
          },
          "metadata": {},
          "execution_count": 41
        }
      ]
    },
    {
      "cell_type": "markdown",
      "source": [
        "## **🛝 Practice Playground** - Section 5\n",
        "Strings in Python can be indexed using positive and negative numbers. Positive indices start from 0 at the beginning of the string, while negative indices start from -1 at the end."
      ],
      "metadata": {
        "id": "PHuMizeMtDdz"
      }
    },
    {
      "cell_type": "code",
      "source": [
        "# Run this cell!\n",
        "\n",
        "bootcamp = \"Coding Temple\"\n",
        "bootcamp[0]"
      ],
      "metadata": {
        "id": "5Mg5JVDJt8Jo",
        "outputId": "8d6d3172-ee6e-455b-a2fb-ef9c777a6523",
        "colab": {
          "base_uri": "https://localhost:8080/",
          "height": 35
        }
      },
      "execution_count": 42,
      "outputs": [
        {
          "output_type": "execute_result",
          "data": {
            "text/plain": [
              "'C'"
            ],
            "application/vnd.google.colaboratory.intrinsic+json": {
              "type": "string"
            }
          },
          "metadata": {},
          "execution_count": 42
        }
      ]
    },
    {
      "cell_type": "code",
      "source": [
        "# Run this cell!\n",
        "\n",
        "bootcamp[-1]"
      ],
      "metadata": {
        "id": "TR35TKKet8Hr",
        "outputId": "4af45ece-a842-4c75-d099-7f7037e9d4ff",
        "colab": {
          "base_uri": "https://localhost:8080/",
          "height": 35
        }
      },
      "execution_count": 43,
      "outputs": [
        {
          "output_type": "execute_result",
          "data": {
            "text/plain": [
              "'e'"
            ],
            "application/vnd.google.colaboratory.intrinsic+json": {
              "type": "string"
            }
          },
          "metadata": {},
          "execution_count": 43
        }
      ]
    },
    {
      "cell_type": "code",
      "source": [
        "# Run this cell!\n",
        "\n",
        "bootcamp[:6]"
      ],
      "metadata": {
        "id": "HXjD_XP-t8Fi",
        "outputId": "44d2cc13-31f8-45ef-b315-c5efb1891f39",
        "colab": {
          "base_uri": "https://localhost:8080/",
          "height": 35
        }
      },
      "execution_count": 45,
      "outputs": [
        {
          "output_type": "execute_result",
          "data": {
            "text/plain": [
              "'Coding'"
            ],
            "application/vnd.google.colaboratory.intrinsic+json": {
              "type": "string"
            }
          },
          "metadata": {},
          "execution_count": 45
        }
      ]
    },
    {
      "cell_type": "code",
      "source": [
        "# Run this cell!\n",
        "\n",
        "bootcamp[7:]"
      ],
      "metadata": {
        "id": "PGb1Z1TXvL88",
        "outputId": "0316aa74-b2c5-4436-ed0d-4402aa136aa7",
        "colab": {
          "base_uri": "https://localhost:8080/",
          "height": 35
        }
      },
      "execution_count": 44,
      "outputs": [
        {
          "output_type": "execute_result",
          "data": {
            "text/plain": [
              "'Temple'"
            ],
            "application/vnd.google.colaboratory.intrinsic+json": {
              "type": "string"
            }
          },
          "metadata": {},
          "execution_count": 44
        }
      ]
    },
    {
      "cell_type": "code",
      "source": [
        "# Run this cell!\n",
        "\n",
        "bootcamp[:-1]"
      ],
      "metadata": {
        "id": "32xhYRZHt7fi",
        "outputId": "fe3aa7b1-23a1-4b35-b873-01bb036ec15d",
        "colab": {
          "base_uri": "https://localhost:8080/",
          "height": 35
        }
      },
      "execution_count": 46,
      "outputs": [
        {
          "output_type": "execute_result",
          "data": {
            "text/plain": [
              "'Coding Templ'"
            ],
            "application/vnd.google.colaboratory.intrinsic+json": {
              "type": "string"
            }
          },
          "metadata": {},
          "execution_count": 46
        }
      ]
    },
    {
      "cell_type": "code",
      "source": [
        "# Run this cell!\n",
        "\n",
        "bootcamp[::-1]"
      ],
      "metadata": {
        "id": "Vx-hfqAXvB1M",
        "outputId": "22160c48-734a-43f6-e4e1-e96ff0b314d8",
        "colab": {
          "base_uri": "https://localhost:8080/",
          "height": 35
        }
      },
      "execution_count": 47,
      "outputs": [
        {
          "output_type": "execute_result",
          "data": {
            "text/plain": [
              "'elpmeT gnidoC'"
            ],
            "application/vnd.google.colaboratory.intrinsic+json": {
              "type": "string"
            }
          },
          "metadata": {},
          "execution_count": 47
        }
      ]
    },
    {
      "cell_type": "code",
      "source": [
        "# Run this cell!\n",
        "\n",
        "bootcamp[1:10:2]"
      ],
      "metadata": {
        "id": "sY1zIHTpvF9r",
        "outputId": "461e6b1d-19cd-4938-8d6d-734795ea9d30",
        "colab": {
          "base_uri": "https://localhost:8080/",
          "height": 35
        }
      },
      "execution_count": 48,
      "outputs": [
        {
          "output_type": "execute_result",
          "data": {
            "text/plain": [
              "'oigTm'"
            ],
            "application/vnd.google.colaboratory.intrinsic+json": {
              "type": "string"
            }
          },
          "metadata": {},
          "execution_count": 48
        }
      ]
    }
  ],
  "metadata": {
    "anaconda-cloud": {},
    "colab": {
      "provenance": [],
      "include_colab_link": true
    },
    "kernelspec": {
      "display_name": "Python 3 (ipykernel)",
      "language": "python",
      "name": "python3"
    },
    "language_info": {
      "codemirror_mode": {
        "name": "ipython",
        "version": 3
      },
      "file_extension": ".py",
      "mimetype": "text/x-python",
      "name": "python",
      "nbconvert_exporter": "python",
      "pygments_lexer": "ipython3",
      "version": "3.11.7"
    }
  },
  "nbformat": 4,
  "nbformat_minor": 0
}