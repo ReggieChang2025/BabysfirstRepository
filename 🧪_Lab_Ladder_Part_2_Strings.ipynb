{
  "cells": [
    {
      "cell_type": "markdown",
      "metadata": {
        "id": "view-in-github",
        "colab_type": "text"
      },
      "source": [
        "<a href=\"https://colab.research.google.com/github/ReggieChang2025/BabysfirstRepository/blob/main/%F0%9F%A7%AA_Lab_Ladder_Part_2_Strings.ipynb\" target=\"_parent\"><img src=\"https://colab.research.google.com/assets/colab-badge.svg\" alt=\"Open In Colab\"/></a>"
      ]
    },
    {
      "cell_type": "markdown",
      "metadata": {
        "id": "1xbyIYOxEjtO"
      },
      "source": [
        "<div>\n",
        "<img src=\"https://coursereport-s3-production.global.ssl.fastly.net/uploads/school/logo/219/original/CT_LOGO_NEW.jpg\" width=60>\n",
        "</div>\n",
        "\n",
        "# **Python Ladder Challenges - Strings**\n"
      ]
    },
    {
      "cell_type": "markdown",
      "metadata": {
        "id": "KnVBAM15EjtU"
      },
      "source": [
        "# Climb the Ladder!\n",
        "Welcome to Part 2 of our ladder! Our class moves quickly! Sometimes, it feels like we make leaps in logic that are a bit too big. Learn Python _slowly_, by doing many, many examples. Problems in this notebook start out easy and progressively get harder, so that the next rung of the Python ladder is always within reach."
      ]
    },
    {
      "cell_type": "markdown",
      "metadata": {
        "id": "OlYrePQ8Ejtd"
      },
      "source": [
        "# Section II: Strings"
      ]
    },
    {
      "cell_type": "markdown",
      "metadata": {
        "id": "X386XKm-Ejtd"
      },
      "source": [
        "12) Create a variable called `name` that is equal to your name."
      ]
    },
    {
      "cell_type": "code",
      "execution_count": null,
      "metadata": {
        "id": "bukLpTVDEjte"
      },
      "outputs": [],
      "source": [
        "name = 'Reggie'"
      ]
    },
    {
      "cell_type": "markdown",
      "metadata": {
        "id": "TsXPy0wpEjtf"
      },
      "source": [
        "13) PART A) By adding strings together, introduce yourself in a string. For example `\"Hello, my name is Katie!\"`. Use concatenation (`+`) to do this."
      ]
    },
    {
      "cell_type": "code",
      "execution_count": 4,
      "metadata": {
        "id": "6pJ0VMNcEjtg",
        "outputId": "0f939c1f-0939-4381-e56c-bff2394e3505",
        "colab": {
          "base_uri": "https://localhost:8080/",
          "height": 35
        }
      },
      "outputs": [
        {
          "output_type": "execute_result",
          "data": {
            "text/plain": [
              "'Hello, my name is Reggie!'"
            ],
            "application/vnd.google.colaboratory.intrinsic+json": {
              "type": "string"
            }
          },
          "metadata": {},
          "execution_count": 4
        }
      ],
      "source": [
        "name = 'Reggie'\n",
        "greeting = \"Hello, my name is \" + name + \"!\"\n",
        "greeting"
      ]
    },
    {
      "cell_type": "markdown",
      "source": [
        "13) PART B) By adding strings together, introduce yourself in a string. For example `\"Hello, my name is Katie!\"`. Use an f-string to do this."
      ],
      "metadata": {
        "id": "7-JP8kNcwEnu"
      }
    },
    {
      "cell_type": "code",
      "source": [
        "# prompt: By adding strings together, introduce yourself in a string. For example \"Hello, my name is Katie!\". Use an f-string to do this\n",
        "\n",
        "name = 'Reggie'\n",
        "greeting = f\"Hello, my name is {name}!\"\n",
        "greeting\n"
      ],
      "metadata": {
        "id": "w9oKvL62wEa1",
        "outputId": "7dc9b2df-c8f9-403c-98db-230d6780123e",
        "colab": {
          "base_uri": "https://localhost:8080/",
          "height": 35
        }
      },
      "execution_count": 5,
      "outputs": [
        {
          "output_type": "execute_result",
          "data": {
            "text/plain": [
              "'Hello, my name is Reggie!'"
            ],
            "application/vnd.google.colaboratory.intrinsic+json": {
              "type": "string"
            }
          },
          "metadata": {},
          "execution_count": 5
        }
      ]
    },
    {
      "cell_type": "markdown",
      "metadata": {
        "id": "hCuVoh9HEjtp"
      },
      "source": [
        "14) Define the string `sentence` to be `\"I love learning Python.\"`"
      ]
    },
    {
      "cell_type": "code",
      "execution_count": 26,
      "metadata": {
        "id": "MqRrV_baEjtr"
      },
      "outputs": [],
      "source": [
        "sentence = \"I love learning Python.\""
      ]
    },
    {
      "cell_type": "markdown",
      "metadata": {
        "id": "XblEBGROEjtr"
      },
      "source": [
        "15) Index `sentence` in order to get the \"a\" in \"learning\"."
      ]
    },
    {
      "cell_type": "code",
      "execution_count": 27,
      "metadata": {
        "id": "5-x96jINEjts",
        "outputId": "c3d4dcb8-752a-4db6-f39a-ea4111c682c7",
        "colab": {
          "base_uri": "https://localhost:8080/"
        }
      },
      "outputs": [
        {
          "output_type": "stream",
          "name": "stdout",
          "text": [
            "a\n"
          ]
        }
      ],
      "source": [
        "index_of_a = sentence.find(\"a\")\n",
        "sentence[index_of_a]\n",
        "\n",
        "print(sentence[9])"
      ]
    },
    {
      "cell_type": "markdown",
      "metadata": {
        "id": "CEOgp2C-Ejts"
      },
      "source": [
        "16) Index `sentence` in order to get the \"y\" in \"Python\" using a negative index."
      ]
    },
    {
      "cell_type": "code",
      "execution_count": 29,
      "metadata": {
        "id": "Y6dyrCdIEjts",
        "outputId": "c872fda2-9568-4421-c5f6-298430d2ba4b",
        "colab": {
          "base_uri": "https://localhost:8080/"
        }
      },
      "outputs": [
        {
          "output_type": "stream",
          "name": "stdout",
          "text": [
            "y\n"
          ]
        }
      ],
      "source": [
        "print(sentence[-6])"
      ]
    },
    {
      "cell_type": "markdown",
      "metadata": {
        "id": "Y_tU2W06Ejts"
      },
      "source": [
        "17) Slice `sentence` in order to get the word \"love\"."
      ]
    },
    {
      "cell_type": "code",
      "execution_count": 30,
      "metadata": {
        "id": "P_tSwyQwEjtt",
        "outputId": "5b280983-9b47-4f89-b08a-909df693cae3",
        "colab": {
          "base_uri": "https://localhost:8080/",
          "height": 35
        }
      },
      "outputs": [
        {
          "output_type": "execute_result",
          "data": {
            "text/plain": [
              "'love'"
            ],
            "application/vnd.google.colaboratory.intrinsic+json": {
              "type": "string"
            }
          },
          "metadata": {},
          "execution_count": 30
        }
      ],
      "source": [
        "sentence.split()[1]"
      ]
    },
    {
      "cell_type": "markdown",
      "metadata": {
        "id": "lb1-YiNqEjtt"
      },
      "source": [
        "18) Uppercase `sentence`."
      ]
    },
    {
      "cell_type": "code",
      "execution_count": 31,
      "metadata": {
        "id": "HmMtHN1ZEjtt",
        "outputId": "176f2f55-7246-4a31-fbc0-8dc900112541",
        "colab": {
          "base_uri": "https://localhost:8080/",
          "height": 35
        }
      },
      "outputs": [
        {
          "output_type": "execute_result",
          "data": {
            "text/plain": [
              "'I LOVE LEARNING PYTHON.'"
            ],
            "application/vnd.google.colaboratory.intrinsic+json": {
              "type": "string"
            }
          },
          "metadata": {},
          "execution_count": 31
        }
      ],
      "source": [
        "sentence.upper()"
      ]
    },
    {
      "cell_type": "markdown",
      "metadata": {
        "id": "al6wzywOEjtu"
      },
      "source": [
        "19) Replace the period at the end of `sentence` with an exclamation point."
      ]
    },
    {
      "cell_type": "code",
      "execution_count": 32,
      "metadata": {
        "id": "hX9Tlj7JEjtu",
        "outputId": "ad6e047d-bf8d-4ef3-fc5b-25682f8b82c8",
        "colab": {
          "base_uri": "https://localhost:8080/",
          "height": 35
        }
      },
      "outputs": [
        {
          "output_type": "execute_result",
          "data": {
            "text/plain": [
              "'I love learning Python!'"
            ],
            "application/vnd.google.colaboratory.intrinsic+json": {
              "type": "string"
            }
          },
          "metadata": {},
          "execution_count": 32
        }
      ],
      "source": [
        "sentence.replace('.', '!')"
      ]
    },
    {
      "cell_type": "markdown",
      "metadata": {
        "id": "HI0X46elEjtv"
      },
      "source": [
        "20) Use `.split()` to get the second word of this string. Was this easier than the method you used for #17?"
      ]
    },
    {
      "cell_type": "code",
      "execution_count": null,
      "metadata": {
        "id": "ZNchbcTREjtw"
      },
      "outputs": [],
      "source": []
    },
    {
      "cell_type": "markdown",
      "metadata": {
        "id": "LyPjduCSEjtw"
      },
      "source": [
        "21) Reverse `sentence`."
      ]
    },
    {
      "cell_type": "code",
      "execution_count": 33,
      "metadata": {
        "id": "Ph0LEsbAEjtx",
        "outputId": "d964fc4e-a486-4e1e-b802-7b568299a6ca",
        "colab": {
          "base_uri": "https://localhost:8080/",
          "height": 35
        }
      },
      "outputs": [
        {
          "output_type": "execute_result",
          "data": {
            "text/plain": [
              "'.nohtyP gninrael evol I'"
            ],
            "application/vnd.google.colaboratory.intrinsic+json": {
              "type": "string"
            }
          },
          "metadata": {},
          "execution_count": 33
        }
      ],
      "source": [
        "sentence[::-1]"
      ]
    },
    {
      "cell_type": "markdown",
      "metadata": {
        "id": "516fE4nyEjtx"
      },
      "source": [
        "\n",
        "22) Does `sentence` contain the letter `y`? HINT: Use the `in` keyword."
      ]
    },
    {
      "cell_type": "code",
      "execution_count": 34,
      "metadata": {
        "id": "AnWHI2XsEjtx",
        "outputId": "38fceff1-88e4-4b78-f7d5-b56d4d484d20",
        "colab": {
          "base_uri": "https://localhost:8080/"
        }
      },
      "outputs": [
        {
          "output_type": "execute_result",
          "data": {
            "text/plain": [
              "True"
            ]
          },
          "metadata": {},
          "execution_count": 34
        }
      ],
      "source": [
        "'y' in sentence"
      ]
    },
    {
      "cell_type": "markdown",
      "metadata": {
        "id": "36b6VN0gEjty"
      },
      "source": [
        "23) How many `o`s does `sentence` have? HINT: Use the `count` method."
      ]
    },
    {
      "cell_type": "code",
      "execution_count": 35,
      "metadata": {
        "id": "sBRlykJAEjty",
        "outputId": "3b78562c-2913-4983-838f-130d51ace1cd",
        "colab": {
          "base_uri": "https://localhost:8080/"
        }
      },
      "outputs": [
        {
          "output_type": "execute_result",
          "data": {
            "text/plain": [
              "2"
            ]
          },
          "metadata": {},
          "execution_count": 35
        }
      ],
      "source": [
        "sentence.count('o')"
      ]
    },
    {
      "cell_type": "markdown",
      "metadata": {
        "id": "KZeeqC-EEjtz"
      },
      "source": [
        "24) Replace all the `o`s in `sentence` with an underscore (do not redefine `sentence`)."
      ]
    },
    {
      "cell_type": "code",
      "execution_count": 36,
      "metadata": {
        "id": "TC1SErHMEjt0",
        "outputId": "91b72906-aa8e-434b-8422-9a1d31de2af4",
        "colab": {
          "base_uri": "https://localhost:8080/",
          "height": 35
        }
      },
      "outputs": [
        {
          "output_type": "execute_result",
          "data": {
            "text/plain": [
              "'I l_ve learning Pyth_n.'"
            ],
            "application/vnd.google.colaboratory.intrinsic+json": {
              "type": "string"
            }
          },
          "metadata": {},
          "execution_count": 36
        }
      ],
      "source": [
        "# prompt: Replace all the os in sentence with an underscore (do not redefine sentence)\n",
        "\n",
        "sentence.replace('o', '_')\n"
      ]
    }
  ],
  "metadata": {
    "colab": {
      "provenance": [],
      "include_colab_link": true
    },
    "kernelspec": {
      "display_name": "Python 3",
      "language": "python",
      "name": "python3"
    },
    "language_info": {
      "codemirror_mode": {
        "name": "ipython",
        "version": 3
      },
      "file_extension": ".py",
      "mimetype": "text/x-python",
      "name": "python",
      "nbconvert_exporter": "python",
      "pygments_lexer": "ipython3",
      "version": "3.8.3"
    }
  },
  "nbformat": 4,
  "nbformat_minor": 0
}