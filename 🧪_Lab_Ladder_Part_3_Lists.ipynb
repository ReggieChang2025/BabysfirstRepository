{
  "cells": [
    {
      "cell_type": "markdown",
      "metadata": {
        "id": "view-in-github",
        "colab_type": "text"
      },
      "source": [
        "<a href=\"https://colab.research.google.com/github/ReggieChang2025/BabysfirstRepository/blob/main/%F0%9F%A7%AA_Lab_Ladder_Part_3_Lists.ipynb\" target=\"_parent\"><img src=\"https://colab.research.google.com/assets/colab-badge.svg\" alt=\"Open In Colab\"/></a>"
      ]
    },
    {
      "cell_type": "markdown",
      "metadata": {
        "id": "1xbyIYOxEjtO"
      },
      "source": [
        "<div>\n",
        "<img src=\"https://coursereport-s3-production.global.ssl.fastly.net/uploads/school/logo/219/original/CT_LOGO_NEW.jpg\" width=60>\n",
        "</div>\n",
        "\n",
        "# **Python Ladder Challenges - Lists**"
      ]
    },
    {
      "cell_type": "markdown",
      "metadata": {
        "id": "KnVBAM15EjtU"
      },
      "source": [
        "# Climb the Ladder!\n",
        "Welcome to Part 3 of our ladder! Our class moves quickly! Sometimes, it feels like we make leaps in logic that are a bit too big. Learn Python _slowly_, by doing many, many examples. Problems in this notebook start out easy and progressively get harder, so that the next rung of the Python ladder is always within reach."
      ]
    },
    {
      "cell_type": "markdown",
      "metadata": {
        "id": "erdXoou7Ejt0"
      },
      "source": [
        "# Section III: Lists"
      ]
    },
    {
      "cell_type": "markdown",
      "metadata": {
        "id": "NnygFMHwEjt0"
      },
      "source": [
        "25) Create a list `friends` of your three best friends, `\"Alice\"`, `\"Bob\"`, and `\"Charlie\"`."
      ]
    },
    {
      "cell_type": "code",
      "execution_count": 2,
      "metadata": {
        "id": "mgaCnQw5Ejt0"
      },
      "outputs": [],
      "source": [
        "friends = [\"Alice\", \"Bob\", \"Charlie\"]"
      ]
    },
    {
      "cell_type": "markdown",
      "metadata": {
        "id": "XQYw7iorEjt1"
      },
      "source": [
        "26) Find the length of `friends`."
      ]
    },
    {
      "cell_type": "code",
      "execution_count": 3,
      "metadata": {
        "id": "TS4BwnnKEjt1",
        "outputId": "1f9cbbaf-59de-4e44-c62b-0cc23a80451e",
        "colab": {
          "base_uri": "https://localhost:8080/"
        }
      },
      "outputs": [
        {
          "output_type": "execute_result",
          "data": {
            "text/plain": [
              "3"
            ]
          },
          "metadata": {},
          "execution_count": 3
        }
      ],
      "source": [
        "len(friends)"
      ]
    },
    {
      "cell_type": "markdown",
      "metadata": {
        "id": "w3aeOQfFEjt1"
      },
      "source": [
        "27) Add your new friend `\"Debbie\"` to your list of `friends`."
      ]
    },
    {
      "cell_type": "code",
      "execution_count": 4,
      "metadata": {
        "id": "o4eH_H6qEjt1"
      },
      "outputs": [],
      "source": [
        "friends.append(\"Debbie\")"
      ]
    },
    {
      "cell_type": "markdown",
      "metadata": {
        "id": "6z7I9o15Ejt2"
      },
      "source": [
        "28) Charlie said you had bad breath. Remove him from your `friends`."
      ]
    },
    {
      "cell_type": "code",
      "execution_count": 5,
      "metadata": {
        "id": "7gvqtPClEjt2"
      },
      "outputs": [],
      "source": [
        "friends.remove(\"Charlie\")"
      ]
    },
    {
      "cell_type": "markdown",
      "metadata": {
        "id": "U0_e2AUlEjt2"
      },
      "source": [
        "29) Using the `.join()` method, join `friends` to look like this _exactly_: `\"Alice & Bob & Debbie\"`"
      ]
    },
    {
      "cell_type": "code",
      "execution_count": 8,
      "metadata": {
        "id": "CppYjdaTEjt2",
        "outputId": "9f2a3f21-3c7b-4b1d-a681-302a1ce21a6d",
        "colab": {
          "base_uri": "https://localhost:8080/",
          "height": 35
        }
      },
      "outputs": [
        {
          "output_type": "execute_result",
          "data": {
            "text/plain": [
              "'Alice & Bob & Debbie'"
            ],
            "application/vnd.google.colaboratory.intrinsic+json": {
              "type": "string"
            }
          },
          "metadata": {},
          "execution_count": 8
        }
      ],
      "source": [
        "\" & \".join(friends)"
      ]
    },
    {
      "cell_type": "markdown",
      "metadata": {
        "id": "9S6Q7e21Ejt2"
      },
      "source": [
        "30) What is the length of `[]`? What about `[[]]`? Why?"
      ]
    },
    {
      "cell_type": "code",
      "execution_count": 9,
      "metadata": {
        "id": "jyFSO9XKEjt2",
        "outputId": "351ca57d-78b5-4b1d-80f4-3bc5fa7eed88",
        "colab": {
          "base_uri": "https://localhost:8080/"
        }
      },
      "outputs": [
        {
          "output_type": "execute_result",
          "data": {
            "text/plain": [
              "0"
            ]
          },
          "metadata": {},
          "execution_count": 9
        }
      ],
      "source": [
        "len([]) #empty list"
      ]
    },
    {
      "cell_type": "code",
      "execution_count": 10,
      "metadata": {
        "id": "Blpde-q6Ejt3",
        "outputId": "54be48fc-962c-4c55-ab94-3d2003e079e4",
        "colab": {
          "base_uri": "https://localhost:8080/"
        }
      },
      "outputs": [
        {
          "output_type": "execute_result",
          "data": {
            "text/plain": [
              "1"
            ]
          },
          "metadata": {},
          "execution_count": 10
        }
      ],
      "source": [
        "len([[]]) #contains one element"
      ]
    },
    {
      "cell_type": "markdown",
      "metadata": {
        "id": "SJZ0tBK6Ejt3"
      },
      "source": [
        "For the next few problems, we'll use this list:"
      ]
    },
    {
      "cell_type": "code",
      "execution_count": 11,
      "metadata": {
        "id": "CXdHd355Ejt3"
      },
      "outputs": [],
      "source": [
        "nested_deep = [1, [2, 3], 4, [5, [6, 7, [8]]]]"
      ]
    },
    {
      "cell_type": "markdown",
      "metadata": {
        "id": "th9IcYG0Ejt4"
      },
      "source": [
        "31) What is the length of `nested_deep`?"
      ]
    },
    {
      "cell_type": "code",
      "execution_count": 12,
      "metadata": {
        "id": "f6koOLG-Ejt5",
        "outputId": "ffa5e554-1a1d-4c3c-c99e-07a20cf669bb",
        "colab": {
          "base_uri": "https://localhost:8080/"
        }
      },
      "outputs": [
        {
          "output_type": "execute_result",
          "data": {
            "text/plain": [
              "4"
            ]
          },
          "metadata": {},
          "execution_count": 12
        }
      ],
      "source": [
        "len(nested_deep)"
      ]
    },
    {
      "cell_type": "markdown",
      "metadata": {
        "id": "oRrZ31liEjt5"
      },
      "source": [
        "32) Index `nested_deep` to get the 5."
      ]
    },
    {
      "cell_type": "code",
      "execution_count": 13,
      "metadata": {
        "id": "sQMf-EA2Ejt6",
        "outputId": "2ff2a9b5-623e-4fec-b6bb-fe9d7faa4912",
        "colab": {
          "base_uri": "https://localhost:8080/"
        }
      },
      "outputs": [
        {
          "output_type": "execute_result",
          "data": {
            "text/plain": [
              "5"
            ]
          },
          "metadata": {},
          "execution_count": 13
        }
      ],
      "source": [
        "nested_deep[3][0]"
      ]
    },
    {
      "cell_type": "markdown",
      "metadata": {
        "id": "49QJ40RdEjt6"
      },
      "source": [
        "33) Index `nested_deep` to get the 8.\n",
        "\n",
        "* _Hint:_ If your answer looks like `[8]`, that's not the correct answer!"
      ]
    },
    {
      "cell_type": "code",
      "execution_count": 14,
      "metadata": {
        "id": "PbDQhQ-CEjt6",
        "outputId": "c13e68ec-9049-4555-cbb7-de128370da24",
        "colab": {
          "base_uri": "https://localhost:8080/"
        }
      },
      "outputs": [
        {
          "output_type": "execute_result",
          "data": {
            "text/plain": [
              "8"
            ]
          },
          "metadata": {},
          "execution_count": 14
        }
      ],
      "source": [
        "nested_deep[3][1][2][0]"
      ]
    }
  ],
  "metadata": {
    "colab": {
      "provenance": [],
      "include_colab_link": true
    },
    "kernelspec": {
      "display_name": "Python 3",
      "language": "python",
      "name": "python3"
    },
    "language_info": {
      "codemirror_mode": {
        "name": "ipython",
        "version": 3
      },
      "file_extension": ".py",
      "mimetype": "text/x-python",
      "name": "python",
      "nbconvert_exporter": "python",
      "pygments_lexer": "ipython3",
      "version": "3.8.3"
    }
  },
  "nbformat": 4,
  "nbformat_minor": 0
}