{
  "cells": [
    {
      "cell_type": "markdown",
      "metadata": {
        "id": "view-in-github",
        "colab_type": "text"
      },
      "source": [
        "<a href=\"https://colab.research.google.com/github/ReggieChang2025/BabysfirstRepository/blob/main/%F0%9F%A7%AA_Lab_Ladder_Part_5_Control_Flow_%26_Iteration_Essentials.ipynb\" target=\"_parent\"><img src=\"https://colab.research.google.com/assets/colab-badge.svg\" alt=\"Open In Colab\"/></a>"
      ]
    },
    {
      "cell_type": "markdown",
      "metadata": {
        "id": "1xbyIYOxEjtO"
      },
      "source": [
        "<div>\n",
        "<img src=\"https://coursereport-s3-production.global.ssl.fastly.net/uploads/school/logo/219/original/CT_LOGO_NEW.jpg\" width=60>\n",
        "</div>\n",
        "\n",
        "# **Python Ladder Challenges - Control Flow & Iteration Essentials**"
      ]
    },
    {
      "cell_type": "markdown",
      "metadata": {
        "id": "KnVBAM15EjtU"
      },
      "source": [
        "# Climb the Ladder!\n",
        "Welcome to Part 5 of our ladder! Our class moves quickly! Sometimes, it feels like we make leaps in logic that are a bit too big. Learn Python _slowly_, by doing many, many examples. Problems in this notebook start out easy and progressively get harder, so that the next rung of the Python ladder is always within reach."
      ]
    },
    {
      "cell_type": "markdown",
      "metadata": {
        "id": "FDM44C8SE9p7"
      },
      "source": [
        "# Section VIII: Conditionals and Loops"
      ]
    },
    {
      "cell_type": "markdown",
      "metadata": {
        "id": "uKCzo7IXE9p7"
      },
      "source": [
        "52) Print out the numbers 1 through 20."
      ]
    },
    {
      "cell_type": "code",
      "execution_count": 1,
      "metadata": {
        "id": "roelWZmUE9p7",
        "outputId": "665b4167-acd3-4bcf-91e3-bbd38a2eb029",
        "colab": {
          "base_uri": "https://localhost:8080/"
        }
      },
      "outputs": [
        {
          "output_type": "stream",
          "name": "stdout",
          "text": [
            "1\n",
            "2\n",
            "3\n",
            "4\n",
            "5\n",
            "6\n",
            "7\n",
            "8\n",
            "9\n",
            "10\n",
            "11\n",
            "12\n",
            "13\n",
            "14\n",
            "15\n",
            "16\n",
            "17\n",
            "18\n",
            "19\n",
            "20\n"
          ]
        }
      ],
      "source": [
        "for i in range(1, 21):\n",
        "  print(i)"
      ]
    },
    {
      "cell_type": "markdown",
      "metadata": {
        "id": "2eLEOKAZE9p8"
      },
      "source": [
        "53) Print out the odd numbers between 1 and 20 by using the third paramter to the `range()` function."
      ]
    },
    {
      "cell_type": "code",
      "execution_count": 2,
      "metadata": {
        "id": "5sDKWzwsE9p8",
        "outputId": "64abd730-6726-450a-ec7b-a3ba99373101",
        "colab": {
          "base_uri": "https://localhost:8080/"
        }
      },
      "outputs": [
        {
          "output_type": "stream",
          "name": "stdout",
          "text": [
            "1\n",
            "3\n",
            "5\n",
            "7\n",
            "9\n",
            "11\n",
            "13\n",
            "15\n",
            "17\n",
            "19\n"
          ]
        }
      ],
      "source": [
        "for i in range(1, 21, 2):\n",
        "  print(i)"
      ]
    },
    {
      "cell_type": "markdown",
      "metadata": {
        "id": "uOOCnvtyE9p8"
      },
      "source": [
        "54) Print out the odd numbers between 1 and 20 by checking if the number is even before printing."
      ]
    },
    {
      "cell_type": "code",
      "execution_count": 3,
      "metadata": {
        "id": "VYNZ71akE9p9",
        "outputId": "24358cda-a342-489f-c608-05bc12b029f1",
        "colab": {
          "base_uri": "https://localhost:8080/"
        }
      },
      "outputs": [
        {
          "output_type": "stream",
          "name": "stdout",
          "text": [
            "1\n",
            "3\n",
            "5\n",
            "7\n",
            "9\n",
            "11\n",
            "13\n",
            "15\n",
            "17\n",
            "19\n"
          ]
        }
      ],
      "source": [
        "for i in range(1, 21):\n",
        "  if i % 2 == 1:\n",
        "    print(i)"
      ]
    },
    {
      "cell_type": "markdown",
      "metadata": {
        "id": "VgrjEghgE9p9"
      },
      "source": [
        "55) What is the sum of the first 100 integers? Hint: Create a variable `total` equal to zero, and increment `total` inside a loop."
      ]
    },
    {
      "cell_type": "code",
      "execution_count": 8,
      "metadata": {
        "id": "SkwVYvI2E9p-",
        "outputId": "2f41d7f6-ae57-490b-a86e-c0283eedc4b8",
        "colab": {
          "base_uri": "https://localhost:8080/"
        }
      },
      "outputs": [
        {
          "output_type": "stream",
          "name": "stdout",
          "text": [
            "5050\n"
          ]
        }
      ],
      "source": [
        "total = 0\n",
        "for i in range(1, 101):\n",
        "  #total.append(i)\n",
        "  total = total + i\n",
        "print(total)"
      ]
    },
    {
      "cell_type": "markdown",
      "metadata": {
        "id": "8gCGcCapE9p-"
      },
      "source": [
        "56) For each friend in your `friends` list, print `'PERSON IS AWESOME!'` in all caps, where `PERSON` is of course replaced with your friend's name."
      ]
    },
    {
      "cell_type": "code",
      "execution_count": 10,
      "metadata": {
        "id": "3Ezy3JykE9p-"
      },
      "outputs": [],
      "source": [
        "friends = [\"Alice\", \"Bob\", \"Charlie\", \"Debbie\"]"
      ]
    },
    {
      "cell_type": "code",
      "execution_count": 13,
      "metadata": {
        "id": "GkOHp8TuE9qA",
        "outputId": "968c7c66-f0ed-469a-fd68-ba33267431a6",
        "colab": {
          "base_uri": "https://localhost:8080/"
        }
      },
      "outputs": [
        {
          "output_type": "stream",
          "name": "stdout",
          "text": [
            "ALICE IS AWESOME!\n",
            "BOB IS AWESOME!\n",
            "CHARLIE IS AWESOME!\n",
            "DEBBIE IS AWESOME!\n"
          ]
        }
      ],
      "source": [
        "for person in friends:\n",
        "  print(person.upper() + \" IS AWESOME!\")"
      ]
    },
    {
      "cell_type": "markdown",
      "metadata": {
        "id": "UMp_VLP7E9qA"
      },
      "source": [
        "57) Similar to the last problem, print `'PERSON IS AWESOME!'` for each friend in your friends list _only if their name ends in a vowel_. Otherwise, print `\"person is ok...\"` (all lowercase)."
      ]
    },
    {
      "cell_type": "code",
      "execution_count": 14,
      "metadata": {
        "id": "UGT14E0cE9qA",
        "outputId": "309ed16c-713e-4eef-8feb-bce082426016",
        "colab": {
          "base_uri": "https://localhost:8080/"
        }
      },
      "outputs": [
        {
          "output_type": "stream",
          "name": "stdout",
          "text": [
            "ALICE IS AWESOME!\n",
            "bob is ok...\n",
            "CHARLIE IS AWESOME!\n",
            "DEBBIE IS AWESOME!\n"
          ]
        }
      ],
      "source": [
        "for person in friends:\n",
        "  if person[-1] in \"aeiou\":\n",
        "    print(person.upper() + \" IS AWESOME!\")\n",
        "  else:\n",
        "    print(person.lower() + \" is ok...\")"
      ]
    },
    {
      "cell_type": "markdown",
      "metadata": {
        "id": "DBbHDIOvE9qB"
      },
      "source": [
        "58) For each number between 1 and 30 (inclusive), if a number is divisible by 3, print `'Fizz'`. Otherwise, just print the number."
      ]
    },
    {
      "cell_type": "code",
      "execution_count": 15,
      "metadata": {
        "id": "JOJffuQ5E9qB",
        "outputId": "5c7d0435-3642-49f5-ac0d-44c2c2d19724",
        "colab": {
          "base_uri": "https://localhost:8080/"
        }
      },
      "outputs": [
        {
          "output_type": "stream",
          "name": "stdout",
          "text": [
            "1\n",
            "2\n",
            "Fizz\n",
            "4\n",
            "5\n",
            "Fizz\n",
            "7\n",
            "8\n",
            "Fizz\n",
            "10\n",
            "11\n",
            "Fizz\n",
            "13\n",
            "14\n",
            "Fizz\n",
            "16\n",
            "17\n",
            "Fizz\n",
            "19\n",
            "20\n",
            "Fizz\n",
            "22\n",
            "23\n",
            "Fizz\n",
            "25\n",
            "26\n",
            "Fizz\n",
            "28\n",
            "29\n",
            "Fizz\n"
          ]
        }
      ],
      "source": [
        "for i in range(1, 31):\n",
        "  if i % 3 == 0:\n",
        "    print(\"Fizz\")\n",
        "  else:\n",
        "    print(i)"
      ]
    },
    {
      "cell_type": "markdown",
      "metadata": {
        "id": "D3LWEpqSE9qB"
      },
      "source": [
        "59) For each number between 1 and 30 (inclusive), if a number is divisible by 5, print `'Buzz'`. Otherwise, just print the number."
      ]
    },
    {
      "cell_type": "code",
      "execution_count": 16,
      "metadata": {
        "id": "hMp89P4yE9qB",
        "outputId": "86e69484-2918-4a29-9dff-8f9ce0614adb",
        "colab": {
          "base_uri": "https://localhost:8080/"
        }
      },
      "outputs": [
        {
          "output_type": "stream",
          "name": "stdout",
          "text": [
            "1\n",
            "2\n",
            "3\n",
            "4\n",
            "Buzz\n",
            "6\n",
            "7\n",
            "8\n",
            "9\n",
            "Buzz\n",
            "11\n",
            "12\n",
            "13\n",
            "14\n",
            "Buzz\n",
            "16\n",
            "17\n",
            "18\n",
            "19\n",
            "Buzz\n",
            "21\n",
            "22\n",
            "23\n",
            "24\n",
            "Buzz\n",
            "26\n",
            "27\n",
            "28\n",
            "29\n",
            "Buzz\n"
          ]
        }
      ],
      "source": [
        "for i in range(1, 31):\n",
        "  if i % 5 == 0:\n",
        "    print(\"Buzz\")\n",
        "  else:\n",
        "    print(i)"
      ]
    },
    {
      "cell_type": "markdown",
      "metadata": {
        "id": "1vuAgeMFE9qC"
      },
      "source": [
        "60) **FIZZBUZZ!** For each number between 1 and 30 (inclusive),\n",
        "* if a number is divisible by 3, print `'Fizz'`\n",
        "* if a number is divisible by 5, print `'Buzz'`\n",
        "* if a number is divisible by both 3 and 5, instead print `'FizzBuzz'`,\n",
        "* otherwise, just print the number\n",
        "\n",
        "This problem is the famous \"Fizzbuzz\" problem - and is a very common interview coding challenge! If you can do this without help, you're making awesome progress! Well done!"
      ]
    },
    {
      "cell_type": "code",
      "source": [
        "for i in range(1, 31):\n",
        "  if i % 3 == 0 and i % 5 == 0:\n",
        "    print(\"FizzBuzz\")\n",
        "  elif i % 3 == 0:\n",
        "        print(\"Fizz\")\n",
        "  elif i % 5 == 0:\n",
        "        print(\"Buzz\")\n",
        "  else:\n",
        "    print(i)"
      ],
      "metadata": {
        "id": "q6J6s38pVjeV",
        "outputId": "57ceac82-fbb8-4bf5-a94e-81a975166574",
        "colab": {
          "base_uri": "https://localhost:8080/"
        }
      },
      "execution_count": 22,
      "outputs": [
        {
          "output_type": "stream",
          "name": "stdout",
          "text": [
            "1\n",
            "2\n",
            "Fizz\n",
            "4\n",
            "Buzz\n",
            "Fizz\n",
            "7\n",
            "8\n",
            "Fizz\n",
            "Buzz\n",
            "11\n",
            "Fizz\n",
            "13\n",
            "14\n",
            "FizzBuzz\n",
            "16\n",
            "17\n",
            "Fizz\n",
            "19\n",
            "Buzz\n",
            "Fizz\n",
            "22\n",
            "23\n",
            "Fizz\n",
            "Buzz\n",
            "26\n",
            "Fizz\n",
            "28\n",
            "29\n",
            "FizzBuzz\n"
          ]
        }
      ]
    },
    {
      "cell_type": "code",
      "source": [
        "for i in range(1, 31):\n",
        "    output = \"\"  # Initialize an empty string to store the output\n",
        "    if i % 3 == 0:\n",
        "        output += \"Fizz\"  # Add \"Fizz\" if divisible by 3\n",
        "    if i % 5 == 0:\n",
        "        output += \"Buzz\"  # Add \"Buzz\" if divisible by 5\n",
        "    if output == \"\":  # If output is still empty (not divisible by 3 or 5)\n",
        "        output = str(i)  # Set output to the number itself\n",
        "    print(output)  # Print the final output"
      ],
      "metadata": {
        "id": "307Ilv1VBmrr",
        "outputId": "c632ba1a-f199-475f-b57d-1e39d88d01d4",
        "colab": {
          "base_uri": "https://localhost:8080/"
        }
      },
      "execution_count": 23,
      "outputs": [
        {
          "output_type": "stream",
          "name": "stdout",
          "text": [
            "1\n",
            "2\n",
            "Fizz\n",
            "4\n",
            "Buzz\n",
            "Fizz\n",
            "7\n",
            "8\n",
            "Fizz\n",
            "Buzz\n",
            "11\n",
            "Fizz\n",
            "13\n",
            "14\n",
            "FizzBuzz\n",
            "16\n",
            "17\n",
            "Fizz\n",
            "19\n",
            "Buzz\n",
            "Fizz\n",
            "22\n",
            "23\n",
            "Fizz\n",
            "Buzz\n",
            "26\n",
            "Fizz\n",
            "28\n",
            "29\n",
            "FizzBuzz\n"
          ]
        }
      ]
    },
    {
      "cell_type": "markdown",
      "metadata": {
        "id": "5koF7xaiE9qC"
      },
      "source": [
        "61) Define a string and call it `sentence`!"
      ]
    },
    {
      "cell_type": "code",
      "execution_count": null,
      "metadata": {
        "id": "yOPHcv3AE9qC"
      },
      "outputs": [],
      "source": [
        "sentence = \"This is a sentence.\""
      ]
    },
    {
      "cell_type": "markdown",
      "metadata": {
        "id": "VKIdBzobE9qC"
      },
      "source": [
        "62) Count the number of vowels in `sentence` (no, y is not a vowel).\n",
        "* _Hint:_ What happens if you loop through a string?"
      ]
    },
    {
      "cell_type": "code",
      "execution_count": 31,
      "metadata": {
        "id": "-ObO9xqdE9qD",
        "outputId": "9ff6ece1-c967-4515-f657-07cb0cebe233",
        "colab": {
          "base_uri": "https://localhost:8080/"
        }
      },
      "outputs": [
        {
          "output_type": "stream",
          "name": "stdout",
          "text": [
            "6\n"
          ]
        }
      ],
      "source": [
        "sentence = \"This is a sentence.\"\n",
        "count = 0\n",
        "\n",
        "for i in sentence.lower():\n",
        "  if i in \"aeiou\":\n",
        "      count += 1\n",
        "print(count)"
      ]
    },
    {
      "cell_type": "markdown",
      "metadata": {
        "id": "aoSiZrx8E9qD"
      },
      "source": [
        "63) Define a variable `sentence_rm` that is equal to `sentence` with all vowels removed.\n",
        "* _Hint:_ This is a tough one. Start out with an empty string and concatenate all of the consonants to it inside a loop."
      ]
    },
    {
      "cell_type": "code",
      "execution_count": 32,
      "metadata": {
        "id": "LsR8lshzE9qD",
        "outputId": "e2bef483-c665-441a-f36c-9abc4cf6e1da",
        "colab": {
          "base_uri": "https://localhost:8080/"
        }
      },
      "outputs": [
        {
          "output_type": "stream",
          "name": "stdout",
          "text": [
            "ths s  sntnc.\n"
          ]
        }
      ],
      "source": [
        "sentence = \"This is a sentence.\"\n",
        "sentence_rm = \"\"\n",
        "\n",
        "for i in sentence.lower():\n",
        "  if i not in \"aeiou\":\n",
        "    sentence_rm += i\n",
        "print(sentence_rm)"
      ]
    },
    {
      "cell_type": "markdown",
      "metadata": {
        "id": "RM7ZSLllE9qD"
      },
      "source": [
        "64) A palindromic word reads the same both ways. For example, “civic,” “madam,” “radar,” and “deified” are all palindromes. Write an `if` statement to test whether or not a word is palindromic. Bonus if you can make this case insensitive."
      ]
    },
    {
      "cell_type": "code",
      "execution_count": 36,
      "metadata": {
        "id": "7nreFJ_pE9qD",
        "outputId": "f39f9de1-b219-4c25-f861-52f66a8420e5",
        "colab": {
          "base_uri": "https://localhost:8080/"
        }
      },
      "outputs": [
        {
          "output_type": "stream",
          "name": "stdout",
          "text": [
            "'Civic' is a palindrome\n"
          ]
        }
      ],
      "source": [
        " word = \"Civic\"\n",
        "# back_words = word[::-1]\n",
        "# word.lower() == back_words.lower()\n",
        "\n",
        "if word.lower() == word.lower()[::-1]:\n",
        "    print(f\"'{word}' is a palindrome\")\n",
        "else:\n",
        "    print(f\"'{word}' is not a palindrome\")"
      ]
    }
  ],
  "metadata": {
    "colab": {
      "provenance": [],
      "include_colab_link": true
    },
    "kernelspec": {
      "display_name": "Python 3",
      "language": "python",
      "name": "python3"
    },
    "language_info": {
      "codemirror_mode": {
        "name": "ipython",
        "version": 3
      },
      "file_extension": ".py",
      "mimetype": "text/x-python",
      "name": "python",
      "nbconvert_exporter": "python",
      "pygments_lexer": "ipython3",
      "version": "3.8.3"
    }
  },
  "nbformat": 4,
  "nbformat_minor": 0
}