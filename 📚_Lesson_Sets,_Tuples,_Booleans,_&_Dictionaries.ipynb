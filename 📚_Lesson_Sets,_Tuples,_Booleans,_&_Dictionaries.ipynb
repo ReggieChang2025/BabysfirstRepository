{
  "cells": [
    {
      "cell_type": "markdown",
      "metadata": {
        "id": "view-in-github",
        "colab_type": "text"
      },
      "source": [
        "<a href=\"https://colab.research.google.com/github/ReggieChang2025/BabysfirstRepository/blob/main/%F0%9F%93%9A_Lesson_Sets%2C_Tuples%2C_Booleans%2C_%26_Dictionaries.ipynb\" target=\"_parent\"><img src=\"https://colab.research.google.com/assets/colab-badge.svg\" alt=\"Open In Colab\"/></a>"
      ]
    },
    {
      "cell_type": "markdown",
      "metadata": {
        "id": "3E2D_PWb6BdA"
      },
      "source": [
        "<div>\n",
        "<img src=\"https://coursereport-s3-production.global.ssl.fastly.net/uploads/school/logo/219/original/CT_LOGO_NEW.jpg\" width=60>\n",
        "</div>\n",
        "\n",
        "#  **Sets, Tuples, Booleans, & Dictionaries**\n",
        "\n",
        "*Be sure to be following along with the lesson page before progressing in this notebook!*"
      ]
    },
    {
      "cell_type": "markdown",
      "source": [
        "## **🛝 Practice Playground** - Section 1\n",
        "Sets in Python are collections that are both unordered and unindexed, defined with curly braces `{}`. They are particularly useful for storing unique items and are optimized for operations that require ensuring element uniqueness, such as membership checks, removing duplicates, and performing mathematical set operations like unions and intersections.\n",
        "\n",
        "While sets are powerful tools, they are not always the go-to data structure for data analysis tasks where the order of elements can be crucial or when data manipulation involving indices is required. In such cases, lists or dictionaries might be more appropriate."
      ],
      "metadata": {
        "id": "YOUiHU27y0mn"
      }
    },
    {
      "cell_type": "code",
      "execution_count": 1,
      "metadata": {
        "id": "ZvzqVRb86BdP"
      },
      "outputs": [],
      "source": [
        "# Run this cell!\n",
        "\n",
        "my_set = {1, 2, 3, \"apple\", \"banana\"}"
      ]
    },
    {
      "cell_type": "code",
      "execution_count": 2,
      "metadata": {
        "id": "YbetqlU_6BdP",
        "outputId": "5220267c-3976-4a36-c0dc-0f11f704242c",
        "colab": {
          "base_uri": "https://localhost:8080/"
        }
      },
      "outputs": [
        {
          "output_type": "execute_result",
          "data": {
            "text/plain": [
              "{1, 2, 3, 'apple', 'banana', 'orange'}"
            ]
          },
          "metadata": {},
          "execution_count": 2
        }
      ],
      "source": [
        "# Run this cell!\n",
        "\n",
        "my_set.add(\"orange\")\n",
        "my_set"
      ]
    },
    {
      "cell_type": "code",
      "source": [
        "# Run this cell!\n",
        "\n",
        "my_set.update([4, 55, \"fruit\"])\n",
        "my_set"
      ],
      "metadata": {
        "id": "COZbkLYTs56N",
        "outputId": "c69272ac-d746-4513-d00f-c15c887ec0d4",
        "colab": {
          "base_uri": "https://localhost:8080/"
        }
      },
      "execution_count": 4,
      "outputs": [
        {
          "output_type": "execute_result",
          "data": {
            "text/plain": [
              "{1, 2, 3, 4, 5, 55, 'apple', 'banana', 'fruit', 'grape', 'orange'}"
            ]
          },
          "metadata": {},
          "execution_count": 4
        }
      ]
    },
    {
      "cell_type": "code",
      "source": [
        "# Run this cell!\n",
        "\n",
        "my_set.discard(\"banana\")\n",
        "my_set"
      ],
      "metadata": {
        "id": "nqyQ50bQtpuW",
        "outputId": "755bfd5c-2cfa-4e3d-e1e8-a55adec50a82",
        "colab": {
          "base_uri": "https://localhost:8080/"
        }
      },
      "execution_count": 5,
      "outputs": [
        {
          "output_type": "execute_result",
          "data": {
            "text/plain": [
              "{1, 2, 3, 4, 5, 55, 'apple', 'fruit', 'grape', 'orange'}"
            ]
          },
          "metadata": {},
          "execution_count": 5
        }
      ]
    },
    {
      "cell_type": "code",
      "source": [
        "# Run this cell!\n",
        "\n",
        "# Raises an error if 'apple' is not found\n",
        "\n",
        "my_set.remove(\"apple\")\n",
        "my_set"
      ],
      "metadata": {
        "id": "3cHYPeAoLbba",
        "outputId": "e98d08c9-2fc2-4bbc-c9c9-959770d7d3c4",
        "colab": {
          "base_uri": "https://localhost:8080/"
        }
      },
      "execution_count": 6,
      "outputs": [
        {
          "output_type": "execute_result",
          "data": {
            "text/plain": [
              "{1, 2, 3, 4, 5, 55, 'fruit', 'grape', 'orange'}"
            ]
          },
          "metadata": {},
          "execution_count": 6
        }
      ]
    },
    {
      "cell_type": "code",
      "source": [
        "# Run this cell!\n",
        "\n",
        "set_a = {1, 2, 3, 4, 5}\n",
        "set_b = {4, 5, 6, 7, 8}"
      ],
      "metadata": {
        "id": "ZLe3ZOz7qQ3r"
      },
      "execution_count": 7,
      "outputs": []
    },
    {
      "cell_type": "code",
      "source": [
        "# Run this cell!\n",
        "\n",
        "set_a | set_b\n",
        "#join (union) OR"
      ],
      "metadata": {
        "id": "NkJkbyTvmAZC",
        "outputId": "ffb7e47d-a04e-4174-fc90-ac41180ca850",
        "colab": {
          "base_uri": "https://localhost:8080/"
        }
      },
      "execution_count": 8,
      "outputs": [
        {
          "output_type": "execute_result",
          "data": {
            "text/plain": [
              "{1, 2, 3, 4, 5, 6, 7, 8}"
            ]
          },
          "metadata": {},
          "execution_count": 8
        }
      ]
    },
    {
      "cell_type": "code",
      "source": [
        "# Run this cell!\n",
        "\n",
        "set_a & set_b\n",
        "#in both sets (intersect) AND"
      ],
      "metadata": {
        "id": "Rkly9IHWmAWq",
        "outputId": "e7628d80-f328-443f-b2b2-0b253a9adae1",
        "colab": {
          "base_uri": "https://localhost:8080/"
        }
      },
      "execution_count": 9,
      "outputs": [
        {
          "output_type": "execute_result",
          "data": {
            "text/plain": [
              "{4, 5}"
            ]
          },
          "metadata": {},
          "execution_count": 9
        }
      ]
    },
    {
      "cell_type": "code",
      "source": [
        "# Run this cell!\n",
        "\n",
        "set_a - set_b\n",
        "#elements in set a but not b\n",
        "#unique to set a"
      ],
      "metadata": {
        "id": "YQfrmBbOH1Tr",
        "outputId": "ee0919d6-e4a5-42bb-bc44-48ef974b13ff",
        "colab": {
          "base_uri": "https://localhost:8080/"
        }
      },
      "execution_count": 11,
      "outputs": [
        {
          "output_type": "execute_result",
          "data": {
            "text/plain": [
              "{1, 2, 3}"
            ]
          },
          "metadata": {},
          "execution_count": 11
        }
      ]
    },
    {
      "cell_type": "code",
      "source": [
        "# Run this cell!\n",
        "\n",
        "set_a ^ set_b\n",
        "#Outputs elements in either set_a or set_b, but not both"
      ],
      "metadata": {
        "id": "_l4qpakjM-bu",
        "outputId": "32f363d5-5b02-48e4-e371-c62a30e94802",
        "colab": {
          "base_uri": "https://localhost:8080/"
        }
      },
      "execution_count": 10,
      "outputs": [
        {
          "output_type": "execute_result",
          "data": {
            "text/plain": [
              "{1, 2, 3, 6, 7, 8}"
            ]
          },
          "metadata": {},
          "execution_count": 10
        }
      ]
    },
    {
      "cell_type": "markdown",
      "source": [
        "## **🛝 Practice Playground** - Section 2\n",
        "Tuples are similar to lists in Python but are immutable, meaning once they are created, their elements cannot be changed, added, or removed. This characteristic makes tuples a reliable data structure for storing a sequence of items that should not be modified."
      ],
      "metadata": {
        "id": "ymC_eEixVkuW"
      }
    },
    {
      "cell_type": "code",
      "source": [
        "# Run this cell!\n",
        "\n",
        "dimensions = (100, 200)\n",
        "width, height = dimensions\n",
        "print(\"Width:\", width)\n",
        "print(\"Height:\", height)"
      ],
      "metadata": {
        "id": "i871jVSQtfuw",
        "outputId": "281b0d4e-7ae6-482d-b52d-c6e6179ad702",
        "colab": {
          "base_uri": "https://localhost:8080/"
        }
      },
      "execution_count": 12,
      "outputs": [
        {
          "output_type": "stream",
          "name": "stdout",
          "text": [
            "Width: 100\n",
            "Height: 200\n"
          ]
        }
      ]
    },
    {
      "cell_type": "code",
      "source": [
        "# Run this cell!\n",
        "\n",
        "colors = (\"red\", \"green\", \"blue\")\n",
        "colors[0]"
      ],
      "metadata": {
        "id": "N6KpyYfBWEY5",
        "outputId": "10d9adb4-4684-4ebf-ad9d-0d45286ba4e9",
        "colab": {
          "base_uri": "https://localhost:8080/",
          "height": 35
        }
      },
      "execution_count": 13,
      "outputs": [
        {
          "output_type": "execute_result",
          "data": {
            "text/plain": [
              "'red'"
            ],
            "application/vnd.google.colaboratory.intrinsic+json": {
              "type": "string"
            }
          },
          "metadata": {},
          "execution_count": 13
        }
      ]
    },
    {
      "cell_type": "code",
      "source": [
        "# Run this cell!\n",
        "\n",
        "tuple1 = (1, 1, 1)\n",
        "tuple2 = (4, 5, 6)\n",
        "combined_tuple = tuple1 + tuple2\n",
        "print(combined_tuple)"
      ],
      "metadata": {
        "id": "6-YXKtt4qPXV",
        "outputId": "e1a79c29-afcd-4fbe-8fe3-605dd43030c3",
        "colab": {
          "base_uri": "https://localhost:8080/"
        }
      },
      "execution_count": 19,
      "outputs": [
        {
          "output_type": "stream",
          "name": "stdout",
          "text": [
            "(1, 1, 1, 4, 5, 6)\n"
          ]
        }
      ]
    },
    {
      "cell_type": "markdown",
      "source": [
        "---"
      ],
      "metadata": {
        "id": "ysRhcsKft27B"
      }
    },
    {
      "cell_type": "markdown",
      "metadata": {
        "id": "gqQArSbM6BdE"
      },
      "source": [
        "## **🛝 Practice Playground** - Section 3\n",
        "Booleans are crucial for implementing logic in programs. They are the backbone of conditional statements and loops, which are used to execute code based on whether conditions are true or false."
      ]
    },
    {
      "cell_type": "code",
      "source": [
        "# Run this cell!\n",
        "\n",
        "a = 5\n",
        "b = 10\n",
        "\n",
        "result = a < b\n",
        "\n",
        "result"
      ],
      "metadata": {
        "id": "LholcXPzb-Yl"
      },
      "execution_count": null,
      "outputs": []
    },
    {
      "cell_type": "code",
      "source": [
        "# Run this cell!\n",
        "\n",
        "is_student = True\n",
        "if is_student:\n",
        "    print(\"Eligible for student discount.\")\n",
        "else:\n",
        "    print(\"Not eligible for discount.\")"
      ],
      "metadata": {
        "id": "jiaSzKv5hZey",
        "outputId": "556e1832-771e-46c7-d151-e71487f39c8b",
        "colab": {
          "base_uri": "https://localhost:8080/"
        }
      },
      "execution_count": 20,
      "outputs": [
        {
          "output_type": "stream",
          "name": "stdout",
          "text": [
            "Eligible for student discount.\n"
          ]
        }
      ]
    },
    {
      "cell_type": "code",
      "source": [
        "# Run this cell!\n",
        "\n",
        "age = 20\n",
        "has_ticket = True\n",
        "if age >= 18 & has_ticket:\n",
        "    print(\"Allowed entry\")\n",
        "else:\n",
        "    print(\"Entry denied\")\n"
      ],
      "metadata": {
        "id": "pfJGuGnscDVr",
        "outputId": "8f7f6a4f-31bc-4161-bfb0-9764c5bfca7b",
        "colab": {
          "base_uri": "https://localhost:8080/"
        }
      },
      "execution_count": 22,
      "outputs": [
        {
          "output_type": "stream",
          "name": "stdout",
          "text": [
            "Allowed entry\n"
          ]
        }
      ]
    },
    {
      "cell_type": "code",
      "source": [
        "# Run this cell!\n",
        "\n",
        "age = 16\n",
        "has_ticket = True\n",
        "if age >= 18 and has_ticket:\n",
        "    print(\"Allowed entry\")\n",
        "else:\n",
        "    print(\"Entry denied\")"
      ],
      "metadata": {
        "id": "mkwRdMHGb-Wb",
        "outputId": "fa4a74d0-a995-45ee-d645-1bf08d466852",
        "colab": {
          "base_uri": "https://localhost:8080/"
        }
      },
      "execution_count": 27,
      "outputs": [
        {
          "output_type": "stream",
          "name": "stdout",
          "text": [
            "Entry denied\n"
          ]
        }
      ]
    },
    {
      "cell_type": "markdown",
      "source": [
        "## **🛝 Practice Playground** - Section 4\n",
        "\n",
        "Dictionaries are incredibly versatile data structures in Python that store data in key-value pairs. This allows for efficient data retrieval by key, rather than by index as in lists or tuples."
      ],
      "metadata": {
        "id": "xcP6OwzZnd2s"
      }
    },
    {
      "cell_type": "code",
      "source": [
        "# Run this cell!\n",
        "\n",
        "person = {\n",
        "  \"first_name\": \"John\",\n",
        "  \"last_name\": \"Doe\",\n",
        "  \"age\": 30\n",
        "}"
      ],
      "metadata": {
        "id": "fWeEjTMxnddR"
      },
      "execution_count": 28,
      "outputs": []
    },
    {
      "cell_type": "code",
      "source": [
        "# Run this cell!\n",
        "\n",
        "# This will raise a key error!\n",
        "\n",
        "person[0]"
      ],
      "metadata": {
        "id": "Dx_K9bypf5hM",
        "outputId": "c1e47631-f88d-4702-bc29-f10edb39607c",
        "colab": {
          "base_uri": "https://localhost:8080/",
          "height": 176
        }
      },
      "execution_count": 29,
      "outputs": [
        {
          "output_type": "error",
          "ename": "KeyError",
          "evalue": "0",
          "traceback": [
            "\u001b[0;31m---------------------------------------------------------------------------\u001b[0m",
            "\u001b[0;31mKeyError\u001b[0m                                  Traceback (most recent call last)",
            "\u001b[0;32m<ipython-input-29-4360aca0e262>\u001b[0m in \u001b[0;36m<cell line: 0>\u001b[0;34m()\u001b[0m\n\u001b[1;32m      3\u001b[0m \u001b[0;31m# This will raise a key error!\u001b[0m\u001b[0;34m\u001b[0m\u001b[0;34m\u001b[0m\u001b[0m\n\u001b[1;32m      4\u001b[0m \u001b[0;34m\u001b[0m\u001b[0m\n\u001b[0;32m----> 5\u001b[0;31m \u001b[0mperson\u001b[0m\u001b[0;34m[\u001b[0m\u001b[0;36m0\u001b[0m\u001b[0;34m]\u001b[0m\u001b[0;34m\u001b[0m\u001b[0;34m\u001b[0m\u001b[0m\n\u001b[0m",
            "\u001b[0;31mKeyError\u001b[0m: 0"
          ]
        }
      ]
    },
    {
      "cell_type": "code",
      "source": [
        "# Run this cell!\n",
        "\n",
        "person[\"profession\"] = \"Engineer\""
      ],
      "metadata": {
        "id": "dZeenoKXnnRC"
      },
      "execution_count": 30,
      "outputs": []
    },
    {
      "cell_type": "code",
      "source": [
        "# Run this cell!\n",
        "\n",
        "person"
      ],
      "metadata": {
        "id": "qjWJKhy8hDIF",
        "outputId": "8e4b8854-c0bf-4989-d92d-689c2f197f38",
        "colab": {
          "base_uri": "https://localhost:8080/"
        }
      },
      "execution_count": 31,
      "outputs": [
        {
          "output_type": "execute_result",
          "data": {
            "text/plain": [
              "{'first_name': 'John', 'last_name': 'Doe', 'age': 30, 'profession': 'Engineer'}"
            ]
          },
          "metadata": {},
          "execution_count": 31
        }
      ]
    },
    {
      "cell_type": "code",
      "source": [
        "# Run this cell!\n",
        "\n",
        "person[\"age\"] = 31"
      ],
      "metadata": {
        "id": "uqyg432LnpdA"
      },
      "execution_count": 33,
      "outputs": []
    },
    {
      "cell_type": "code",
      "source": [
        "# Run this cell!\n",
        "\n",
        "person"
      ],
      "metadata": {
        "id": "DTOERilGnsKl",
        "outputId": "b77ec3dd-d763-4944-d271-d92dfd27e47a",
        "colab": {
          "base_uri": "https://localhost:8080/"
        }
      },
      "execution_count": 34,
      "outputs": [
        {
          "output_type": "execute_result",
          "data": {
            "text/plain": [
              "{'first_name': 'John', 'last_name': 'Doe', 'age': 31, 'profession': 'Engineer'}"
            ]
          },
          "metadata": {},
          "execution_count": 34
        }
      ]
    },
    {
      "cell_type": "code",
      "source": [
        "# Run this cell!\n",
        "\n",
        "del person[\"age\"]"
      ],
      "metadata": {
        "id": "QsF4yYdohK-p"
      },
      "execution_count": 35,
      "outputs": []
    },
    {
      "cell_type": "code",
      "source": [
        "# Run this cell!\n",
        "\n",
        "person"
      ],
      "metadata": {
        "id": "FTX_1IQQhK8s",
        "outputId": "bb6b43fb-839d-4bf3-d2a2-d1694c54d717",
        "colab": {
          "base_uri": "https://localhost:8080/"
        }
      },
      "execution_count": 36,
      "outputs": [
        {
          "output_type": "execute_result",
          "data": {
            "text/plain": [
              "{'first_name': 'John', 'last_name': 'Doe', 'profession': 'Engineer'}"
            ]
          },
          "metadata": {},
          "execution_count": 36
        }
      ]
    },
    {
      "cell_type": "code",
      "source": [
        "# Run this cell!\n",
        "\n",
        "vehicle_info = {\n",
        "    \"make\": \"Toyota\",\n",
        "    \"model\": \"Corolla\",\n",
        "    \"year\": 2021\n",
        "}"
      ],
      "metadata": {
        "id": "x6yDrHorhK6k"
      },
      "execution_count": 37,
      "outputs": []
    },
    {
      "cell_type": "code",
      "source": [
        "# Run this cell!\n",
        "\n",
        "vehicle_info.keys()"
      ],
      "metadata": {
        "id": "OYJ-Mz9khK4h",
        "outputId": "6fff2001-e021-447a-fc16-a2a3fb1c5f74",
        "colab": {
          "base_uri": "https://localhost:8080/"
        }
      },
      "execution_count": 38,
      "outputs": [
        {
          "output_type": "execute_result",
          "data": {
            "text/plain": [
              "dict_keys(['make', 'model', 'year'])"
            ]
          },
          "metadata": {},
          "execution_count": 38
        }
      ]
    },
    {
      "cell_type": "code",
      "source": [
        "# Run this cell!\n",
        "\n",
        "vehicle_info.values()"
      ],
      "metadata": {
        "id": "IzllswN1hK1n",
        "outputId": "1a43212e-0cb6-4aca-bfbb-ef48c2d1f669",
        "colab": {
          "base_uri": "https://localhost:8080/"
        }
      },
      "execution_count": 39,
      "outputs": [
        {
          "output_type": "execute_result",
          "data": {
            "text/plain": [
              "dict_values(['Toyota', 'Corolla', 2021])"
            ]
          },
          "metadata": {},
          "execution_count": 39
        }
      ]
    },
    {
      "cell_type": "code",
      "source": [
        "# Run this cell!\n",
        "\n",
        "vehicle_info.items()"
      ],
      "metadata": {
        "id": "cg-G8q7ihTxC",
        "outputId": "c2511c85-3d4f-4e92-a604-37c9ff86a299",
        "colab": {
          "base_uri": "https://localhost:8080/"
        }
      },
      "execution_count": 40,
      "outputs": [
        {
          "output_type": "execute_result",
          "data": {
            "text/plain": [
              "dict_items([('make', 'Toyota'), ('model', 'Corolla'), ('year', 2021)])"
            ]
          },
          "metadata": {},
          "execution_count": 40
        }
      ]
    },
    {
      "cell_type": "code",
      "source": [
        "# Run this cell!\n",
        "\n",
        "# Dictionary to store product prices\n",
        "product_prices = {\n",
        "  \"Crunchwrap\": 3.49,\n",
        "  \"Burrito\": 2.99,\n",
        "  \"Baja Blast\": 1.99\n",
        "}\n",
        "\n",
        "# Calculate total cost of one Crunchwrap and two Burritos\n",
        "total_cost = product_prices[\"Crunchwrap\"] + product_prices[\"Burrito\"] * 2\n",
        "print(f\"Total cost: ${total_cost:.2f}\")"
      ],
      "metadata": {
        "id": "WGh8WGkyhYxh",
        "outputId": "d2d15ae4-6e2d-4184-af61-9f488a61b454",
        "colab": {
          "base_uri": "https://localhost:8080/"
        }
      },
      "execution_count": 42,
      "outputs": [
        {
          "output_type": "stream",
          "name": "stdout",
          "text": [
            "Total cost: $9.47\n"
          ]
        }
      ]
    },
    {
      "cell_type": "code",
      "source": [
        "# Run this cell!\n",
        "\n",
        "authors = {\n",
        "    \"J.R.R. Tolkien\": {\n",
        "        \"genre\": \"fantasy\",\n",
        "        \"books\": [\n",
        "            \"The Fellowship of the Ring\",\n",
        "            \"The Two Towers\",\n",
        "            \"The Return of the King\"\n",
        "        ],\n",
        "        \"active\": False\n",
        "    },\n",
        "    \"Brandon Sanderson\": {\n",
        "        \"genre\": \"fantasy\",\n",
        "        \"books\": [\n",
        "            \"The Way of Kings\",\n",
        "            \"Words of Radiance\",\n",
        "            \"Oathbringer\"\n",
        "        ],\n",
        "        \"active\": True,\n",
        "        \"phone\": {\n",
        "            \"home\": \"(281) 330-8004\",\n",
        "            \"work\": \"(877) CASH-NOW\"\n",
        "        }\n",
        "    },\n",
        "    \"Frank Herbert\": {\n",
        "        \"genre\": \"science fiction\",\n",
        "        \"books\": [\"Dune\"],\n",
        "        \"phone\": None,\n",
        "        \"active\": False\n",
        "    }\n",
        "}"
      ],
      "metadata": {
        "id": "Je0JbchKhYtW"
      },
      "execution_count": 43,
      "outputs": []
    },
    {
      "cell_type": "code",
      "source": [
        "# Run this cell!\n",
        "\n",
        "authors"
      ],
      "metadata": {
        "id": "Y_ULy7N-h1dY",
        "outputId": "a43743aa-0eb3-43fc-8720-bf7651e97ad1",
        "colab": {
          "base_uri": "https://localhost:8080/"
        }
      },
      "execution_count": 44,
      "outputs": [
        {
          "output_type": "execute_result",
          "data": {
            "text/plain": [
              "{'J.R.R. Tolkien': {'genre': 'fantasy',\n",
              "  'books': ['The Fellowship of the Ring',\n",
              "   'The Two Towers',\n",
              "   'The Return of the King'],\n",
              "  'active': False},\n",
              " 'Brandon Sanderson': {'genre': 'fantasy',\n",
              "  'books': ['The Way of Kings', 'Words of Radiance', 'Oathbringer'],\n",
              "  'active': True,\n",
              "  'phone': {'home': '(281) 330-8004', 'work': '(877) CASH-NOW'}},\n",
              " 'Frank Herbert': {'genre': 'science fiction',\n",
              "  'books': ['Dune'],\n",
              "  'phone': None,\n",
              "  'active': False}}"
            ]
          },
          "metadata": {},
          "execution_count": 44
        }
      ]
    },
    {
      "cell_type": "code",
      "source": [
        "# Run this cell!\n",
        "\n",
        "authors[\"J.R.R. Tolkien\"]"
      ],
      "metadata": {
        "id": "bJbhJ-wUhYrX",
        "outputId": "a69af90b-7b72-4e0b-f9f0-deda5f367885",
        "colab": {
          "base_uri": "https://localhost:8080/"
        }
      },
      "execution_count": 45,
      "outputs": [
        {
          "output_type": "execute_result",
          "data": {
            "text/plain": [
              "{'genre': 'fantasy',\n",
              " 'books': ['The Fellowship of the Ring',\n",
              "  'The Two Towers',\n",
              "  'The Return of the King'],\n",
              " 'active': False}"
            ]
          },
          "metadata": {},
          "execution_count": 45
        }
      ]
    },
    {
      "cell_type": "code",
      "source": [
        "# Run this cell!\n",
        "\n",
        "authors[\"J.R.R. Tolkien\"][\"books\"]"
      ],
      "metadata": {
        "id": "T8AVEvyhhYpC",
        "outputId": "e4b807a5-b7d7-481b-f36e-95778c4f80f0",
        "colab": {
          "base_uri": "https://localhost:8080/"
        }
      },
      "execution_count": 46,
      "outputs": [
        {
          "output_type": "execute_result",
          "data": {
            "text/plain": [
              "['The Fellowship of the Ring', 'The Two Towers', 'The Return of the King']"
            ]
          },
          "metadata": {},
          "execution_count": 46
        }
      ]
    },
    {
      "cell_type": "code",
      "source": [
        "# Run this cell!\n",
        "\n",
        "authors[\"J.R.R. Tolkien\"][\"books\"][1]"
      ],
      "metadata": {
        "id": "mcjEPI1_hk5U",
        "outputId": "25dd7b77-9e77-4d77-fbd2-b4fe7d965746",
        "colab": {
          "base_uri": "https://localhost:8080/",
          "height": 35
        }
      },
      "execution_count": 47,
      "outputs": [
        {
          "output_type": "execute_result",
          "data": {
            "text/plain": [
              "'The Two Towers'"
            ],
            "application/vnd.google.colaboratory.intrinsic+json": {
              "type": "string"
            }
          },
          "metadata": {},
          "execution_count": 47
        }
      ]
    },
    {
      "cell_type": "code",
      "source": [
        "# Run this cell!\n",
        "\n",
        "authors"
      ],
      "metadata": {
        "id": "Rp58Dq4Th25C",
        "outputId": "a8e76332-f2f3-438a-d0ec-7015a4739979",
        "colab": {
          "base_uri": "https://localhost:8080/"
        }
      },
      "execution_count": 48,
      "outputs": [
        {
          "output_type": "execute_result",
          "data": {
            "text/plain": [
              "{'J.R.R. Tolkien': {'genre': 'fantasy',\n",
              "  'books': ['The Fellowship of the Ring',\n",
              "   'The Two Towers',\n",
              "   'The Return of the King'],\n",
              "  'active': False},\n",
              " 'Brandon Sanderson': {'genre': 'fantasy',\n",
              "  'books': ['The Way of Kings', 'Words of Radiance', 'Oathbringer'],\n",
              "  'active': True,\n",
              "  'phone': {'home': '(281) 330-8004', 'work': '(877) CASH-NOW'}},\n",
              " 'Frank Herbert': {'genre': 'science fiction',\n",
              "  'books': ['Dune'],\n",
              "  'phone': None,\n",
              "  'active': False}}"
            ]
          },
          "metadata": {},
          "execution_count": 48
        }
      ]
    },
    {
      "cell_type": "code",
      "source": [
        "# Run this cell!\n",
        "\n",
        "authors[\"Brandon Sanderson\"]"
      ],
      "metadata": {
        "id": "N8nxAQ4ahmVg",
        "outputId": "40381fc2-70f0-4435-d847-e2d77d89050a",
        "colab": {
          "base_uri": "https://localhost:8080/"
        }
      },
      "execution_count": 49,
      "outputs": [
        {
          "output_type": "execute_result",
          "data": {
            "text/plain": [
              "{'genre': 'fantasy',\n",
              " 'books': ['The Way of Kings', 'Words of Radiance', 'Oathbringer'],\n",
              " 'active': True,\n",
              " 'phone': {'home': '(281) 330-8004', 'work': '(877) CASH-NOW'}}"
            ]
          },
          "metadata": {},
          "execution_count": 49
        }
      ]
    },
    {
      "cell_type": "code",
      "source": [
        "# Run this cell!\n",
        "\n",
        "authors[\"Brandon Sanderson\"][\"phone\"]"
      ],
      "metadata": {
        "id": "2XcP0xaXhmTa",
        "outputId": "54baff86-1dba-424e-9876-d823f42b8648",
        "colab": {
          "base_uri": "https://localhost:8080/"
        }
      },
      "execution_count": 50,
      "outputs": [
        {
          "output_type": "execute_result",
          "data": {
            "text/plain": [
              "{'home': '(281) 330-8004', 'work': '(877) CASH-NOW'}"
            ]
          },
          "metadata": {},
          "execution_count": 50
        }
      ]
    },
    {
      "cell_type": "code",
      "source": [
        "# Run this cell!\n",
        "\n",
        "authors[\"Brandon Sanderson\"][\"phone\"][\"work\"][6:10]"
      ],
      "metadata": {
        "id": "04dMbQ93hmQ8",
        "outputId": "5975da8b-c20a-4a14-bcad-b6c91ca30814",
        "colab": {
          "base_uri": "https://localhost:8080/",
          "height": 35
        }
      },
      "execution_count": 53,
      "outputs": [
        {
          "output_type": "execute_result",
          "data": {
            "text/plain": [
              "'CASH'"
            ],
            "application/vnd.google.colaboratory.intrinsic+json": {
              "type": "string"
            }
          },
          "metadata": {},
          "execution_count": 53
        }
      ]
    }
  ],
  "metadata": {
    "anaconda-cloud": {},
    "colab": {
      "provenance": [],
      "include_colab_link": true
    },
    "kernelspec": {
      "display_name": "Python 3 (ipykernel)",
      "language": "python",
      "name": "python3"
    },
    "language_info": {
      "codemirror_mode": {
        "name": "ipython",
        "version": 3
      },
      "file_extension": ".py",
      "mimetype": "text/x-python",
      "name": "python",
      "nbconvert_exporter": "python",
      "pygments_lexer": "ipython3",
      "version": "3.11.7"
    }
  },
  "nbformat": 4,
  "nbformat_minor": 0
}